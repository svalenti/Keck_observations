{
 "cells": [
  {
   "cell_type": "code",
   "execution_count": 1,
   "metadata": {},
   "outputs": [],
   "source": [
    "import numpy as np\n",
    "import astroplan\n",
    "from astroplan.plots import plot_sky\n",
    "from astroplan import plots, Observer, FixedTarget\n",
    "from astropy.coordinates import SkyCoord\n",
    "from astropy.time import Time\n",
    "import astropy\n",
    "import astropy.units as u\n",
    "from matplotlib import pyplot as plt\n",
    "from astropy.table import Table\n",
    "from matplotlib import cycler\n",
    "from astropy.coordinates import SkyCoord, EarthLocation, AltAz, get_moon\n",
    "%matplotlib inline"
   ]
  },
  {
   "cell_type": "code",
   "execution_count": 2,
   "metadata": {},
   "outputs": [],
   "source": [
    "import warnings\n",
    "warnings.filterwarnings('ignore')"
   ]
  },
  {
   "cell_type": "code",
   "execution_count": 3,
   "metadata": {},
   "outputs": [
    {
     "data": {
      "text/plain": [
       "'6.0.1'"
      ]
     },
     "execution_count": 3,
     "metadata": {},
     "output_type": "execute_result"
    }
   ],
   "source": [
    "astropy.__version__"
   ]
  },
  {
   "cell_type": "code",
   "execution_count": null,
   "metadata": {},
   "outputs": [],
   "source": []
  },
  {
   "cell_type": "code",
   "execution_count": 4,
   "metadata": {},
   "outputs": [],
   "source": [
    "#astroplan.download_IERS_A()\n",
    "#astropy.utils.iers.IERS_A_URL = 'http://toshi.nofs.navy.mil/ser7/finals2000A.all'\n",
    "astroplan.download_IERS_A()"
   ]
  },
  {
   "cell_type": "code",
   "execution_count": 5,
   "metadata": {},
   "outputs": [],
   "source": [
    "custom_cycler=[]\n",
    "colors=[]\n",
    "colors = [icolor['color'] for icolor in plt.rcParams['axes.prop_cycle'] ]\n",
    "custom_cycler = cycler(linestyle=['-', '--'])*cycler(color=colors)"
   ]
  },
  {
   "cell_type": "code",
   "execution_count": 6,
   "metadata": {},
   "outputs": [],
   "source": [
    "observer = astroplan.Observer.at_site('lick')"
   ]
  },
  {
   "cell_type": "code",
   "execution_count": 7,
   "metadata": {},
   "outputs": [],
   "source": [
    "today = Time('2024-08-08 04:00:00', scale='utc')"
   ]
  },
  {
   "cell_type": "code",
   "execution_count": 8,
   "metadata": {},
   "outputs": [
    {
     "name": "stdout",
     "output_type": "stream",
     "text": [
      "12 deg env twilight 2024-08-08 04:09:46.961\n",
      "15 deg env twilight 2024-08-08 04:27:42.781\n",
      "18 deg eve twilight 2024-08-08 04:46:21.887\n",
      "18 deg morn twilight 2024-08-08 11:38:21.365\n",
      "15 deg morn twilight 2024-08-08 11:57:00.552\n",
      "12 deg morn twilight 2024-08-08 12:14:56.471\n"
     ]
    }
   ],
   "source": [
    "pre_twi12deg = observer.sun_set_time(today, horizon=-12*u.degree)\n",
    "print('12 deg env twilight', pre_twi12deg.iso)\n",
    "pre_twi15deg = observer.sun_set_time(today, horizon=-15*u.degree)\n",
    "print('15 deg env twilight', pre_twi15deg.iso)\n",
    "pre_twi18deg = observer.twilight_evening_astronomical(today)\n",
    "print('18 deg eve twilight', pre_twi18deg.iso)\n",
    "\n",
    "twi18deg = observer.twilight_morning_astronomical(today)\n",
    "print('18 deg morn twilight', twi18deg.iso)\n",
    "twi15deg = observer.sun_rise_time(today, horizon=-15*u.degree)\n",
    "print('15 deg morn twilight', twi15deg.iso)\n",
    "twi12deg = observer.twilight_morning_nautical(today)\n",
    "print('12 deg morn twilight', twi12deg.iso)\n",
    "\n",
    "handoff = Time('2024-08-08 4:30:00', scale='utc') #hand-off to us"
   ]
  },
  {
   "cell_type": "code",
   "execution_count": 9,
   "metadata": {},
   "outputs": [],
   "source": [
    "gd71           =astroplan.FixedTarget(coord=SkyCoord('05:52:27.51', '+15:53:16.6', unit=(u.hourangle, u.degree)),\n",
    "                                      name='gd71')\n",
    "BD174708       =astroplan.FixedTarget(coord=SkyCoord('22:11:31.37',  '+18:05:34.2',unit=(u.hourangle, u.degree)),\n",
    "                                      name='BD174708')#10 s\tR~9.2\tred standard\n",
    "HD19445        =astroplan.FixedTarget(coord=SkyCoord('03:08:25.86',  '+26:20:05.7',unit=(u.hourangle, u.degree)),\n",
    "                                      name='HD19445')#10 s\tR~7.8\tred standard\n",
    "HD84937        =astroplan.FixedTarget(coord=SkyCoord('09:48:56.09',  '+13:44:39.3',unit=(u.hourangle, u.degree)),\n",
    "                                      name='HD84937')#10 s\tV~8.3\tred standard\n",
    "BD262606       =astroplan.FixedTarget(coord=SkyCoord('14:49:02.35',  '+25:42:09.1',unit=(u.hourangle, u.degree)),\n",
    "                                      name='BD262606')#20 s\tV~9.7\tred standard\n",
    "Feige66       = astroplan.FixedTarget(coord=SkyCoord('12:37:23.6',  '+25:04:00',unit=(u.hourangle, u.degree)),\n",
    "                                      name='Feige66')#\tV~10.5\t(sdO)03:55:21.7','+09:47:18\n",
    "#HZ4           = astroplan.FixedTarget(coord=SkyCoord('',unit=(u.hourangle, u.degree)),\n",
    "#                                      name='HZ4')#\tDA4\t14.52\t3850\t8850\t1,3\n",
    "PG0205134     = astroplan.FixedTarget(coord=SkyCoord('02:08:03.44', '+13:36:30.9',unit=(u.hourangle, u.degree)),\n",
    "                                      name='PG0205134')#\tsdOB\t14.87\t3200\t8100\t5\n",
    "\n",
    "Feige11       = astroplan.FixedTarget(coord=SkyCoord('01:04:21.6', '+04:13:37',unit=(u.hourangle, u.degree)),\n",
    "                                      name='Feige11')#\tsdB\t12.07\t3850\t8850\t3\n",
    "\n",
    "Hiltner600    = astroplan.FixedTarget(coord=SkyCoord('06:45:13.40', '+02:08:14.1',unit=(u.hourangle, u.degree)),\n",
    "                                      name='Hiltner600')#\tB1V\t10.45\t3200\t10300\t5, 6, 2\n",
    "LTT9239         = astroplan.FixedTarget(coord=SkyCoord('22 52 40.88', '-20 35 26.3', unit=(u.hourangle, u.degree)),\n",
    "                                      name='LTT9239')\n",
    "LTT1020    = astroplan.FixedTarget(coord=SkyCoord('01:54:49.7', '-27:28:29', unit=(u.hourangle, u.degree)),\n",
    "                                      name='LTT1020')#V~11.522 \n",
    "LTT6248    = astroplan.FixedTarget(coord=SkyCoord('15:38:59.8', '-28:35:34', unit=(u.hourangle, u.degree)),\n",
    "                                      name='LTT6248')#V~11.797\n",
    "\n",
    "\n",
    "Feige34        =astroplan.FixedTarget(coord=SkyCoord('10:39:36.74',  '+43:06:09.3',unit=(u.hourangle, u.degree)),\n",
    "                                      name='Feige34')#60 s\tV~11.3\tblue standard (DO)\n",
    "BD284211       =astroplan.FixedTarget(coord=SkyCoord('21:51:11.02',  '+28:51:50.4',unit=(u.hourangle, u.degree)),\n",
    "                                      name='BD284211')#30 s\tR~10.7\tblue standard  (sdOp)\n",
    "Feige110       =astroplan.FixedTarget(coord=SkyCoord('23:19:58.39',  '-05:09:55.8',unit=(u.hourangle, u.degree)),\n",
    "                                      name='Feige110')#60 s\tV~11.83\t(DOp)\n",
    "HZ44           =astroplan.FixedTarget(coord=SkyCoord('13:23:35.26',  '+36:07:59.5',unit=(u.hourangle, u.degree)),\n",
    "                                      name='HZ44')#60 s\tV~11.7\tblue standard\n",
    "\n",
    "BD64106        =astroplan.FixedTarget(coord=SkyCoord('00:57:36.70',  '+64:51:34.92',unit=(u.hourangle, u.degree)),\n",
    "                                      name='BD64106')#V~10.23, polarized\n",
    "HD236633       =astroplan.FixedTarget(coord=SkyCoord('01:09:12.34',  '+60:37:40.92',unit=(u.hourangle, u.degree)),\n",
    "                                      name='HD236633')#V~9.18, polarized\n",
    "\n",
    "G191B2B        =astroplan.FixedTarget(coord=SkyCoord('05:05:30.60',  '+52:49:54.0',unit=(u.hourangle, u.degree)),\n",
    "                                      name='G191B2B')#60 s\tR~11.9\tblue standard (DA0)\n",
    "GD319          =astroplan.FixedTarget(coord=SkyCoord('12:50:05.00',  '+55:06:00.0',unit=(u.hourangle, u.degree)),\n",
    "                                      name='GD319')#V~12.32, polarized\n",
    "BD33d2642      =astroplan.FixedTarget(coord=SkyCoord('15:51:59.86',  '+32:56:54.8',unit=(u.hourangle, u.degree)),\n",
    "                                      name='BD33d2642')#30 s\tV~10.81\t(B2IV)"
   ]
  },
  {
   "cell_type": "code",
   "execution_count": 10,
   "metadata": {},
   "outputs": [],
   "source": [
    "# stds = [Feige34,BD284211,Feige110,G191B2B,HZ44,BD33d2642] # Kast red standards\n",
    "\n",
    "stds = [HD19445,HD84937,BD262606,BD174708] # Kast blue standards"
   ]
  },
  {
   "cell_type": "markdown",
   "metadata": {},
   "source": [
    "### Choose Standards for the night"
   ]
  },
  {
   "cell_type": "code",
   "execution_count": 11,
   "metadata": {
    "scrolled": false
   },
   "outputs": [
    {
     "data": {
      "image/png": "[encoded data removed]",
      "text/plain": [
       "<Figure size 900x600 with 2 Axes>"
      ]
     },
     "metadata": {},
     "output_type": "display_data"
    }
   ],
   "source": [
    "from astropy.utils.iers import conf\n",
    "conf.auto_max_age = None\n",
    "# time = today+np.linspace(0, 0.32, 100)\n",
    "time = today+np.linspace(-0.1, 0.4, 100)\n",
    "#plt.figure(figsize=(9,6))\n",
    "fig = plt.figure(figsize=(9,6))\n",
    "fig.subplotpars.update(bottom=0.15)\n",
    "ax = fig.add_subplot(111)\n",
    "\n",
    "for istd, istyle in zip(stds, custom_cycler):\n",
    "    plots.plot_airmass(istd, observer, time, style_kwargs=istyle,altitude_yaxis=True,ax=ax)\n",
    "\n",
    "ax.axvline(pre_twi12deg.plot_date, linestyle=':', label='12deg', color='k')\n",
    "ax.axvline(pre_twi18deg.plot_date, label='18deg', color='k')\n",
    "\n",
    "ax.axvline(twi12deg.plot_date, linestyle=':', label='12deg', color='k')\n",
    "ax.axvline(twi18deg.plot_date, label='18deg', color='k')\n",
    "\n",
    "# plt.axvline(handoff.plot_date, label='handoff', color='k')\n",
    "ax.legend(ncol=3, loc='lower center')\n",
    "plt.grid()\n"
   ]
  },
  {
   "cell_type": "code",
   "execution_count": 12,
   "metadata": {},
   "outputs": [],
   "source": [
    "chosen_stds = [BD33d2642,\n",
    "               BD284211,\n",
    "               BD262606,\n",
    "               HD19445\n",
    "               ]"
   ]
  },
  {
   "cell_type": "code",
   "execution_count": 13,
   "metadata": {},
   "outputs": [],
   "source": [
    "sn2022xus = astroplan.FixedTarget(coord=SkyCoord('06:54:05.13', '+08:34:13.5', unit=(u.hourangle, u.degree)),\n",
    "                                   name='2022xus')\n",
    "sn2022crv = astroplan.FixedTarget(coord=SkyCoord('09:54:25.82', '-25:42:10.5', unit=(u.hourangle, u.degree)),\n",
    "                                   name='2022crv')\n",
    "sn2022jox = astroplan.FixedTarget(coord=SkyCoord('09:57:44.49', '-28:30:56.5', unit=(u.hourangle, u.degree)),\n",
    "                                   name='2022jox')\n",
    "sn2022ewj = astroplan.FixedTarget(coord=SkyCoord('10:46:34.61', '+13:45:16.9', unit=(u.hourangle, u.degree)),\n",
    "                                   name='2022ewj')\n",
    "sn2022mma = astroplan.FixedTarget(coord=SkyCoord('14:39:01.50', '+15:59:11.8', unit=(u.hourangle, u.degree)),\n",
    "                                   name='2022mma')\n",
    "sn2022abq = astroplan.FixedTarget(coord=SkyCoord('13:22:56.79', '+28:19:09.6', unit=(u.hourangle, u.degree)),\n",
    "                                   name='2022abq')\n",
    "sn2022frq = astroplan.FixedTarget(coord=SkyCoord('13:27:56.91', '-13:24:59.2', unit=(u.hourangle, u.degree)),\n",
    "                                   name='2022frq')\n",
    "sn2022kad = astroplan.FixedTarget(coord=SkyCoord('14:58:43.32', '+11:37:50.9', unit=(u.hourangle, u.degree)),\n",
    "                                   name='2022kad')\n",
    "sn2022fuc = astroplan.FixedTarget(coord=SkyCoord('12:34:34.25', '+63:31:06.4', unit=(u.hourangle, u.degree)),\n",
    "                                   name='2022fuc')\n",
    "sn2023bee = astroplan.FixedTarget(coord=SkyCoord('08:56:11.63', '-03:19:32.0', unit=(u.hourangle, u.degree)),\n",
    "                                   name='2023bee')\n",
    "sn2023axu = astroplan.FixedTarget(coord=SkyCoord('06:45:55.32', '-18:13:53.5', unit=(u.hourangle, u.degree)),\n",
    "                                   name='2023axu')    \n",
    "\n",
    "sn2021ahpl =  astroplan.FixedTarget(coord=SkyCoord('15:15:57.94', '-19:17:32.0', unit=(u.hourangle, u.degree)),\n",
    "                                   name='2021ahpl') \n",
    "sn2021yja = astroplan.FixedTarget(coord=SkyCoord('03:24:21.17', '-21:33:56.2', unit=(u.hourangle, u.degree)),\n",
    "                                   name='2021yja')\n",
    "\n",
    "sn2022wsp = astroplan.FixedTarget(coord=SkyCoord('23:00:03.56', '+15:58:43.9', unit=(u.hourangle, u.degree)),\n",
    "                                   name='2022wsp') \n",
    "sn2022xkq = astroplan.FixedTarget(coord=SkyCoord('05:05:23.71', '-11:52:56.1', unit=(u.hourangle, u.degree)),\n",
    "                                   name='2022xkq') \n",
    "sn2022aaiq = astroplan.FixedTarget(coord=SkyCoord('14:26:32.03', '+56:35:03.2', unit=(u.hourangle, u.degree)),\n",
    "                                   name='2022aaiq') \n",
    "sn2023cpt = astroplan.FixedTarget(coord=SkyCoord('15:21:33.36', '-13:05:21.7', unit=(u.hourangle, u.degree)),\n",
    "                                   name='2023cpt') \n",
    "sn2022esa = astroplan.FixedTarget(coord=SkyCoord('16:53:57.60', '-09:42:10.1', unit=(u.hourangle, u.degree)),\n",
    "                                   name='2022esa') \n",
    "sn2022pul = astroplan.FixedTarget(coord=SkyCoord('12:26:48.86', '+08:26:55.3', unit=(u.hourangle, u.degree)),\n",
    "                                   name='2022pul') \n",
    "sn2022qzr = astroplan.FixedTarget(coord=SkyCoord('00:09:55.01', '-05:01:16.1', unit=(u.hourangle, u.degree)),\n",
    "                                   name='2022qzr') \n",
    "sn2023axu = astroplan.FixedTarget(coord=SkyCoord('06:45:55.32', '-18:13:53.5', unit=(u.hourangle, u.degree)),\n",
    "                                   name='2023axu') \n",
    "sn2023gft = astroplan.FixedTarget(coord=SkyCoord('21:26:01.32', '-03:47:53.6', unit=(u.hourangle, u.degree)),\n",
    "                                   name='2023gft') \n",
    "sn2023ktw = astroplan.FixedTarget(coord=SkyCoord('17:27:29.91', '+34:17:53.03', unit=(u.hourangle, u.degree)),\n",
    "                                   name='2023ktw') \n",
    "sn2021qqu = astroplan.FixedTarget(coord=SkyCoord('03:37:51.90', '-14:58:33.8', unit=(u.hourangle, u.degree)),\n",
    "                                   name='2021qqu')\n",
    "sn2023ehl = astroplan.FixedTarget(coord=SkyCoord('20:25:10.75', '+05:15:24.3', unit=(u.hourangle, u.degree)),\n",
    "                                   name='2023ehl')\n",
    "\n",
    "sn2023gft = astroplan.FixedTarget(coord=SkyCoord('21:26:01.32', '-03:47:53.6',  unit=(u.hourangle, u.degree)),\n",
    "                                   name='2023gft')\n",
    "sn2023dbc = astroplan.FixedTarget(coord=SkyCoord('11:11:39.21', '+55:40:29.2', unit=(u.hourangle, u.degree)),\n",
    "                                   name='2023dbc')\n",
    "sn2023dtc = astroplan.FixedTarget(coord=SkyCoord('08:33:17.54', '-22:57:45.0', unit=(u.hourangle, u.degree)),\n",
    "                                   name='2023dtc')\n",
    "\n",
    "sn2023esp = astroplan.FixedTarget(coord=SkyCoord('06:46:53.85', '+15:35:54.2', unit=(u.hourangle, u.degree)),\n",
    "                                   name='2023esp')\n",
    "sn2022aagp = astroplan.FixedTarget(coord=SkyCoord('09:10:41.91' '+07:12:20.4', unit=(u.hourangle, u.degree)),\n",
    "                                   name='2022aagp')\n",
    "sn2022erq = astroplan.FixedTarget(coord=SkyCoord('18:33:25.36', '+44:05:11.6', unit=(u.hourangle, u.degree)),\n",
    "                                   name='2022erq')\n",
    "sn2023qea = astroplan.FixedTarget(coord=SkyCoord('18:09:04.97', '+42:34:21.7', unit=(u.hourangle, u.degree)),\n",
    "                                   name='2022qea')\n",
    "sn2022esa = astroplan.FixedTarget(coord=SkyCoord('16:53:57.60', '-09:42:10.1', unit=(u.hourangle, u.degree)),\n",
    "                                   name='2022esa')\n",
    "at2023ufx = astroplan.FixedTarget(coord=SkyCoord('08:24:51.57', '+21:17:43.3', unit=(u.hourangle, u.degree)),\n",
    "                                   name='2023ufx')\n",
    "sn2023rau = astroplan.FixedTarget(coord=SkyCoord('00:20:55.24', '-01:45:28.5', unit=(u.hourangle, u.degree)),\n",
    "                                   name='2023rau')\n",
    "sn2023ufx = astroplan.FixedTarget(coord=SkyCoord('08:24:51.57', '+21:17:43.3', unit=(u.hourangle, u.degree)),\n",
    "                                   name='2023ufx')\n",
    "sn2023qov = astroplan.FixedTarget(coord=SkyCoord('21:12:02.04', '-49:15:18.1', unit=(u.hourangle, u.degree)),\n",
    "                                   name='2023qov')\n",
    "sn2023ubp = astroplan.FixedTarget(coord=SkyCoord('23:10:31.07', '+02:57:15.6', unit=(u.hourangle, u.degree)),\n",
    "                                   name='2023ubp')\n",
    "sn2023tsz = astroplan.FixedTarget(coord=SkyCoord('08:37:29.53', '-00:02:35.7', unit=(u.hourangle, u.degree)),\n",
    "                                   name='2023tsz')\n",
    "sn2023nlk = astroplan.FixedTarget(coord=SkyCoord('17:20:53.29', '+22:12:35.3', unit=(u.hourangle, u.degree)),\n",
    "                                   name='2023nlk')\n",
    "sn2022acko = astroplan.FixedTarget(coord=SkyCoord('03:19:38.98', '-19:23:42.5', unit=(u.hourangle, u.degree)),\n",
    "                                   name='2022acko')\n",
    "sn2023ngy = astroplan.FixedTarget(coord=SkyCoord('22:18:30.18', '+29:14:41.1', unit=(u.hourangle, u.degree)),\n",
    "                                   name='2023ngy')\n",
    "sn2023wed = astroplan.FixedTarget(coord=SkyCoord('07:24:15.50', '+19:04:52.7', unit=(u.hourangle, u.degree)),\n",
    "                                   name='2023wed')\n",
    "sn2022ablq = astroplan.FixedTarget(coord=SkyCoord('12:13:06.48', '+17:05:56.2', unit=(u.hourangle, u.degree)),\n",
    "                                   name='2022ablq')\n",
    "sn2022xxf = astroplan.FixedTarget(coord=SkyCoord('11:30:05.89', '+09:16:57.3', unit=(u.hourangle, u.degree)),\n",
    "                                   name='2022xxf')\n",
    "sn2023plg = astroplan.FixedTarget(coord=SkyCoord('07:17:03.16', '+24:57:31.7', unit=(u.hourangle, u.degree)),\n",
    "                                   name='2023plg')\n",
    "sn2022xus = astroplan.FixedTarget(coord=SkyCoord('06:54:05.13', '+08:34:13.5', unit=(u.hourangle, u.degree)),\n",
    "                                   name='2022xus')\n",
    "sn2023xje = astroplan.FixedTarget(coord=SkyCoord('05:38:52.978', '-35:55:17.07', unit=(u.hourangle, u.degree)),\n",
    "                                   name='2023xje')\n",
    "sn2022jox = astroplan.FixedTarget(coord=SkyCoord('09:57:44.49', '-28:30:56.5', unit=(u.hourangle, u.degree)),\n",
    "                                   name='2022jox')\n",
    "sn2023cr = astroplan.FixedTarget(coord=SkyCoord('03:42:13.07', '-27:52:16.6', unit=(u.hourangle, u.degree)),\n",
    "                                   name='2023cr')\n",
    "sn2023xgo= astroplan.FixedTarget(coord=SkyCoord('03:42:13.07', '-27:52:16.6', unit=(u.hourangle, u.degree)),\n",
    "                                   name='2023cr')\n",
    "sn2023wdd= astroplan.FixedTarget(coord=SkyCoord('01:18:11.05', '+38:26:32.7', unit=(u.hourangle, u.degree)),\n",
    "                                   name='2023wdd')\n",
    "\n",
    "sn2023mut = astroplan.FixedTarget(coord=SkyCoord('04:48:34.34', '+00:14:47.5', unit=(u.hourangle, u.degree)),\n",
    "                                   name='2023mut')\n",
    "sn2023ixf = astroplan.FixedTarget(coord=SkyCoord('14:03:38.56', '+54:18:42.0', unit=(u.hourangle, u.degree)),\n",
    "                                   name='2023ixf')\n",
    "sn2023fyq = astroplan.FixedTarget(coord=SkyCoord('12:25:45.87', '+12:39:48.7', unit=(u.hourangle, u.degree)),\n",
    "                                   name='2023fyq')\n",
    "sn2023zcu= astroplan.FixedTarget(coord=SkyCoord('06:01:06.84', '-23:40:29.2', unit=(u.hourangle, u.degree)),\n",
    "                                   name='2023zcu')\n",
    "sn2024gy= astroplan.FixedTarget(coord=SkyCoord('12:15:51.31', '+13:06:56.1', unit=(u.hourangle, u.degree)),\n",
    "                                   name='2024gy')\n",
    "sn2024uj= astroplan.FixedTarget(coord=SkyCoord('11:07:49.04', '-20:01:34.2', unit=(u.hourangle, u.degree)),\n",
    "                                   name='2024uj')\n",
    "sn2023xqm= astroplan.FixedTarget(coord=SkyCoord('10:34:34.98', '-27:39:03.4', unit=(u.hourangle, u.degree)),\n",
    "                                   name='2023xqm')\n",
    "sn2023vyl= astroplan.FixedTarget(coord=SkyCoord('23:20:29.66', '+17:13:16.3', unit=(u.hourangle, u.degree)),\n",
    "                                   name='2023vyl')\n",
    "sn2023tpl= astroplan.FixedTarget(coord=SkyCoord('07:08:41.68', '+54:46:35.1', unit=(u.hourangle, u.degree)),\n",
    "                                   name='2023tpl')\n",
    "sn2023vog= astroplan.FixedTarget(coord=SkyCoord('09:45:09.64', '+68:35:11.9', unit=(u.hourangle, u.degree)),\n",
    "                                   name='2023vog')\n",
    "sn2024fa= astroplan.FixedTarget(coord=SkyCoord('02:25:01.37', '-24:47:12.6', unit=(u.hourangle, u.degree)),\n",
    "                                   name='2024fa')\n",
    "sn2024ws= astroplan.FixedTarget(coord=SkyCoord('08:28:46.70', '+73:45:08.7', unit=(u.hourangle, u.degree)),\n",
    "                                   name='2024ws')\n",
    "sn2024bch= astroplan.FixedTarget(coord=SkyCoord('10:21:50.20', '+56:55:36.1', unit=(u.hourangle, u.degree)),\n",
    "                                   name='2024bch')\n",
    "sn2023wrk= astroplan.FixedTarget(coord=SkyCoord('11:28:39.17', '+58:33:12.7', unit=(u.hourangle, u.degree)),\n",
    "                                   name='2023wrk')\n",
    "sn2024gy= astroplan.FixedTarget(coord=SkyCoord('12:15:51.31', '+13:06:56.1', unit=(u.hourangle, u.degree)),\n",
    "                                   name='2024gy')\n",
    "\n",
    "sn2024apt= astroplan.FixedTarget(coord=SkyCoord('10:25:36.87', '-02:12:40.0', unit=(u.hourangle, u.degree)),\n",
    "                                   name='2024apt')\n",
    "\n",
    "sn2024drv = astroplan.FixedTarget(coord=SkyCoord('13:38:27.85', '+33:06:55.7', unit=(u.hourangle, u.degree)),\n",
    "                                   name='2024drv')\n",
    "sn2024byg = astroplan.FixedTarget(coord=SkyCoord('12:51:53.84', '-04:34:24.7', unit=(u.hourangle, u.degree)),\n",
    "                                   name='2024byg')\n",
    "sn2024cld = astroplan.FixedTarget(coord=SkyCoord('15:50:21.61', '+18:56:21.1', unit=(u.hourangle, u.degree)),\n",
    "                                   name='2024cld')\n",
    "sn2024cdi = astroplan.FixedTarget(coord=SkyCoord('08:27:08.00', '+22:50:27.8', unit=(u.hourangle, u.degree)),\n",
    "                                   name='2024cdi')\n",
    "sn2024btj = astroplan.FixedTarget(coord=SkyCoord('11:39:14.44', '+56:15:38.6', unit=(u.hourangle, u.degree)),\n",
    "                                   name='2024btj')\n",
    "sn2023ijd = astroplan.FixedTarget(coord=SkyCoord('12:36:32.48', '+11:13:19.7', unit=(u.hourangle, u.degree)),\n",
    "                                   name='2023ijd')\n",
    "sn2023aaby = astroplan.FixedTarget(coord=SkyCoord('08:40:45.31', '-04:07:01.2', unit=(u.hourangle, u.degree)),\n",
    "                                   name='2023aaby')\n",
    "sn2023vbg = astroplan.FixedTarget(coord=SkyCoord('07:43:43.78', '+34:22:30.1', unit=(u.hourangle, u.degree)),\n",
    "                                   name='2023vbg')\n",
    "sn2024ehs = astroplan.FixedTarget(coord=SkyCoord('10:53:00.52', '+17:34:21.5', unit=(u.hourangle, u.degree)),\n",
    "                                   name='2024ehs')\n",
    "\n",
    "sn2024ahr = astroplan.FixedTarget(coord=SkyCoord('14:21:59.14', '-12:30:21.0', unit=(u.hourangle, u.degree)),\n",
    "                                   name='2024ahr')\n",
    "sn2024atk = astroplan.FixedTarget(coord=SkyCoord('13:18:31.13', '-14:36:39.1', unit=(u.hourangle, u.degree)),\n",
    "                                   name='2024atk')\n",
    "\n",
    "sn2024faq = astroplan.FixedTarget(coord=SkyCoord('15:44:29.76','+40:21:23.6', unit=(u.hourangle, u.degree)),\n",
    "                                   name='2024faq')\n",
    "sn2024inv = astroplan.FixedTarget(coord=SkyCoord('11:06:32.16', '+11:22:42.6', unit=(u.hourangle, u.degree)),\n",
    "                                   name='2024inv')\n",
    "sn2024iss = astroplan.FixedTarget(coord=SkyCoord('12:59:06.14', '+28:48:42.5', unit=(u.hourangle, u.degree)),\n",
    "                                   name='2024iss')\n",
    "sn2024ggi = astroplan.FixedTarget(coord=SkyCoord('11:18:22.09', '-32:50:15.3', unit=(u.hourangle, u.degree)),\n",
    "                                   name='2024ggi')\n",
    "sn2024ahv = astroplan.FixedTarget(coord=SkyCoord('16:18:46.32', '+07:24:44.8', unit=(u.hourangle, u.degree)),\n",
    "                                   name='2024ahv')\n",
    "sn2024jlf = astroplan.FixedTarget(coord=SkyCoord('14:37:42.32',' +02:17:04.2', unit=(u.hourangle, u.degree)),\n",
    "                                   name='2024jlf')\n",
    "sn2024iwi = astroplan.FixedTarget(coord=SkyCoord('14:35:19.086','+51:17:39.42',unit=(u.hourangle,u.degree)),\n",
    "                                   name='2024iwi')\n",
    "sn2024kce = astroplan.FixedTarget(coord=SkyCoord('12:29:49.551','+08:12:48.47',unit=(u.hourangle,u.degree)),\n",
    "                                   name='2024kce')\n",
    "sn2024kgi = astroplan.FixedTarget(coord=SkyCoord('22:44:43.99','+16:05:07.0',unit=(u.hourangle,u.degree)),\n",
    "                                   name='2024kgi')\n",
    "\n",
    "sn2024gbc = astroplan.FixedTarget(coord=SkyCoord('14:34:31.49','+58:18:33.0',unit=(u.hourangle,u.degree)),\n",
    "                                   name='2024gbc')\n",
    "sn2024mpq = astroplan.FixedTarget(coord=SkyCoord('22:30:41.08','+39:17:30.2',unit=(u.hourangle,u.degree)),\n",
    "                                   name='2024mpq')\n",
    "sn2024pxl = astroplan.FixedTarget(coord=SkyCoord('17:32:27.35','+07:03:44.8',unit=(u.hourangle,u.degree)),\n",
    "                                   name='2024pxl')\n",
    "sn2024pnw = astroplan.FixedTarget(coord=SkyCoord('01:27:25.37','-01:54:52.7',unit=(u.hourangle,u.degree)),\n",
    "                                   name='2024pnw')\n"
   ]
  },
  {
   "cell_type": "code",
   "execution_count": 14,
   "metadata": {},
   "outputs": [],
   "source": [
    "targets = [\n",
    "    sn2024cld,\n",
    "    sn2024drv,\n",
    "    sn2023vyl,\n",
    "    sn2024gbc,\n",
    "    sn2024mpq,\n",
    "    sn2024jlf,\n",
    "    sn2024iss,\n",
    "    sn2024kgi,\n",
    "    sn2023ixf,\n",
    "    sn2024pxl,\n",
    "    sn2024pnw,\n",
    "]"
   ]
  },
  {
   "cell_type": "code",
   "execution_count": null,
   "metadata": {},
   "outputs": [],
   "source": [
    "plt.close()\n",
    "fig = plt.figure(figsize=(12,9))\n",
    "fig.subplotpars.update(bottom=0.15)\n",
    "ax = fig.add_subplot(111)\n",
    "ax.axhline(1/np.cos(((90-40)*u.degree).to(u.radian)), color='k', ls='--', label='Shane target limit')\n",
    "# ax.axhline(1/np.cos(((90-33)*u.degree).to(u.radian)), color='k', ls='--', label='Keck rising target lim')\n",
    "#ax.axhline(1/np.cos(((90-38)*u.degree).to(u.radian)), color='k', ls='--', label='Keck rising target lim (new)')\n",
    "time = today+np.linspace(-0.05, 0.4, 100)\n",
    "for std in chosen_stds:\n",
    "    plots.plot_airmass(std, observer, time, style_kwargs={'linestyle':':'})\n",
    "\n",
    "for cycle, itarget in zip(custom_cycler,targets):\n",
    "    plots.plot_airmass(itarget, observer, time, altitude_yaxis=True, ax=ax, style_kwargs=cycle)\n",
    "ax.axvline(twi12deg.plot_date, linestyle=':', label='12deg', color='k')\n",
    "ax.axvline(twi18deg.plot_date, color='k')\n",
    "ax.axvline(pre_twi18deg.plot_date, label='18deg', color='k')\n",
    "# ax.axvline(handoff.plot_date, label='handoff', color='k')\n",
    "ax.axvline(pre_twi12deg.plot_date, color='k', ls=':')\n",
    "#plt.axhline()\n",
    "ax.legend(ncol=3, loc='lower center')\n",
    "\n",
    "plt.grid()\n",
    "plt.savefig('visibility.pdf')"
   ]
  },
  {
   "cell_type": "code",
   "execution_count": null,
   "metadata": {},
   "outputs": [],
   "source": [
    "sn2023ixf = astroplan.FixedTarget(coord=SkyCoord('14:03:38.56', '+54:18:42.0', unit=(u.hourangle, u.degree)),\n",
    "                                   name='2023ixf')\n",
    "sn2024gy  = astroplan.FixedTarget(coord=SkyCoord('12:15:51.31', '+13:06:56.1', unit=(u.hourangle, u.degree)),\n",
    "                                   name='2024gy')\n",
    "sn2024ws  = astroplan.FixedTarget(coord=SkyCoord('08:28:46.70', '+73:45:08.7', unit=(u.hourangle, u.degree)),\n",
    "                                   name='2024ws')\n",
    "sn2024bch = astroplan.FixedTarget(coord=SkyCoord('10:21:50.20', '+56:55:36.1', unit=(u.hourangle, u.degree)),\n",
    "                                   name='2024bch')\n",
    "sn2023wrk = astroplan.FixedTarget(coord=SkyCoord('11:28:39.17', '+58:33:12.7', unit=(u.hourangle, u.degree)),\n",
    "                                   name='2023wrk')\n",
    "sn2024apt = astroplan.FixedTarget(coord=SkyCoord('10:25:36.87', '-02:12:40.0', unit=(u.hourangle, u.degree)),\n",
    "                                   name='2024apt')\n",
    "sn2024drv = astroplan.FixedTarget(coord=SkyCoord('13:38:27.85', '+33:06:55.7', unit=(u.hourangle, u.degree)),\n",
    "                                   name='2024drv')\n",
    "sn2024byg = astroplan.FixedTarget(coord=SkyCoord('12:51:53.84', '-04:34:24.7', unit=(u.hourangle, u.degree)),\n",
    "                                   name='2024byg')\n",
    "sn2024cld = astroplan.FixedTarget(coord=SkyCoord('15:50:21.61', '+18:56:21.1', unit=(u.hourangle, u.degree)),\n",
    "                                   name='2024cld')\n",
    "sn2024cdi = astroplan.FixedTarget(coord=SkyCoord('08:27:08.00', '+22:50:27.8', unit=(u.hourangle, u.degree)),\n",
    "                                   name='2024cdi')\n",
    "sn2024btj = astroplan.FixedTarget(coord=SkyCoord('11:39:14.44', '+56:15:38.6', unit=(u.hourangle, u.degree)),\n",
    "                                   name='2024btj')\n",
    "sn2023ijd = astroplan.FixedTarget(coord=SkyCoord('12:36:32.48', '+11:13:19.7', unit=(u.hourangle, u.degree)),\n",
    "                                   name='2023ijd')\n",
    "sn2024iwi = astroplan.FixedTarget(coord=SkyCoord('14:35:19.086','+51:17:39.42',unit=(u.hourangle,u.degree)),name='2024iwi')\n"
   ]
  },
  {
   "cell_type": "code",
   "execution_count": null,
   "metadata": {},
   "outputs": [],
   "source": [
    "blue_std = \"\"\"\n",
    "Feige34     10:39:36.74 +43:06:09.3 11.2 1x180\n",
    "BD284211    21:51:11.02 +28:51:50.4 10.7 1x180\n",
    "Feige110    23:19:58.00 -05:09:55.8 11.8 1x240\n",
    "G191B2B     05:05:30.62 +52:49:54.0 11.8 1x240\n",
    "HZ44        13:23:35.26 +36:07:59.5 11.7 1x240\n",
    "BD33d2642   15:51:59.86 +32:56:54.8 10.8 1x180\n",
    "\"\"\"\n",
    "\n",
    "red_std = \"\"\"\n",
    "HD19445     03:08:25.86 +26:20:05.7 8.1 1x40\n",
    "HD84937     09:48:56.09 +13:44:39.3 8.3 1x60\n",
    "BD262606    14:49:02.35 +25:42:09.1 9.7  1x135\n",
    "BD174708    22:11:31.37 +18:05:34.2 9.2  1x135\n",
    "\"\"\""
   ]
  },
  {
   "cell_type": "code",
   "execution_count": null,
   "metadata": {},
   "outputs": [],
   "source": [
    "tab =\"\"\"BD262606    14:49:02.35 +25:42:09.1 9.7  1x135\n",
    "BD33d2642   15:51:59.86 +32:56:54.8 10.8 1x180\n",
    "2023ixf     14:03:38.56 +54:18:42.0 19   4x1200\n",
    "2024pxl     17:32:27.35 +07:03:44.8 16.3 3x1200\n",
    "2024mpq     22:30:41.08 +39:17:30.2 15.4 2x900\n",
    "2024kgi     22:44:43.99 +16:05:07.0 16.5 3x1200\n",
    "2023vyl     23:20:29.66 +17:13:16.3 18.6 4x1200\n",
    "2024pnw     01:27:25.37 -01:54:52.7 16   3x900\n",
    "BD284211    21:51:11.02 +28:51:50.4 10.7 1x180\n",
    "BD174708    22:11:31.37 +18:05:34.2 9.2  1x135\n",
    "end     00:00:00     -90:00:00.  99 1x1\"\"\"\n",
    "\n",
    "\n",
    "# 2024iss     12:59:06.14 +28:48:42.5 15.8 3x900\n",
    "# 2024drv     13:38:27.85 +33:06:55.7 19   5x1200\n",
    "# 2024gbc     14:34:31.49 +58:18:33.0 18.9 5x1200\n",
    "# 2024jlf     14:37:42.32 +02:17:04.2 15.7 3x900\n",
    "# 2024cld     15:50:21.61 +18:56:21.1 18.1 4x1200\n"
   ]
  },
  {
   "cell_type": "code",
   "execution_count": null,
   "metadata": {},
   "outputs": [],
   "source": [
    "row_list = tab.split('\\n')\n",
    "tbdata = Table(names=['name', 'ra', 'dec', 'mag', 'exposure'], dtype=('S10', 'S11', 'S11', 'S10', 'S10'))\n",
    "for irow in row_list:\n",
    "    tbdata.add_row(irow.split())\n",
    "    \n",
    "nexp = []\n",
    "exptime = []\n",
    "for irow in tbdata:\n",
    "    inexp, iexptime = irow['exposure'].split('x')\n",
    "    nexp.append(float(inexp))\n",
    "    exptime.append(float(iexptime))\n",
    "tbdata['nexp'] = nexp\n",
    "tbdata['exptime'] = exptime"
   ]
  },
  {
   "cell_type": "code",
   "execution_count": null,
   "metadata": {},
   "outputs": [],
   "source": [
    "night_start = handoff\n",
    "#night_start = Time(pre_twi15deg.iso)\n",
    "readout_time = 195*u.second\n",
    "slew = 300*u.second\n",
    "obs_start = [night_start]\n",
    "start_time = night_start\n",
    "for irow in tbdata:\n",
    "    start_time +=irow['exptime']*irow['nexp']*u.second+readout_time*(irow['nexp']-1) + slew\n",
    "    obs_start.append(start_time)\n",
    "    "
   ]
  },
  {
   "cell_type": "code",
   "execution_count": null,
   "metadata": {},
   "outputs": [],
   "source": [
    "tbdata['start'] = obs_start[:-1]"
   ]
  },
  {
   "cell_type": "code",
   "execution_count": null,
   "metadata": {},
   "outputs": [],
   "source": [
    "tbdata"
   ]
  },
  {
   "cell_type": "code",
   "execution_count": null,
   "metadata": {},
   "outputs": [],
   "source": [
    "tbdata.write('../plan.txt', format='ascii.fixed_width', overwrite=True)"
   ]
  },
  {
   "cell_type": "code",
   "execution_count": null,
   "metadata": {},
   "outputs": [],
   "source": [
    "fig = plt.figure(figsize=(9,6))\n",
    "fig.subplotpars.update(bottom=0.15)\n",
    "ax = fig.add_subplot(111)\n",
    "# ax.axhline(1/np.cos(((90-35)*u.degree).to(u.radian)), color='k', ls='--', label='Shane target lim')\n",
    "#ax.axhline(1/np.cos(((90-38)*u.degree).to(u.radian)), color='r', ls='--', label='Keck rising target lim (new)')\n",
    "#ax.axhline(1/np.cos(((90-18)*u.degree).to(u.radian)), color='k', ls='--', label='Keck rising target lim')\n",
    "#time = today+np.linspace(0, 0.32, 100)\n",
    "last_time = handoff\n",
    "ax.axvline(pre_twi12deg.plot_date, color='k',  ls=':')\n",
    "ax.axvline(pre_twi15deg.plot_date, color='red', ls=':')\n",
    "ax.axvline(pre_twi18deg.plot_date, color='k',label='start')\n",
    "for indx, cycle in enumerate(custom_cycler):\n",
    "    try:\n",
    "        irow = tbdata[indx]\n",
    "    except IndexError:\n",
    "        break\n",
    "    itarget = astroplan.FixedTarget(coord=SkyCoord(ra=irow['ra'], dec=irow['dec'], unit=(u.hourangle, u.degree)), \n",
    "                                   name=irow['name'])\n",
    "    try:\n",
    "        time = irow['start'] + np.linspace(0,(tbdata[indx+1]['start']-irow['start']).value, 20)\n",
    "    except IndexError:\n",
    "        time = irow['start'] + np.linspace(0,(handoff-irow['start']).value, 20)\n",
    "    plots.plot_airmass(itarget, observer, time, altitude_yaxis=True, ax=ax, style_kwargs=cycle)\n",
    "ax.axvline(twi18deg.plot_date, label='18deg', color='k')\n",
    "ax.axvline(twi15deg.plot_date, linestyle=':', label='15deg', color='red')\n",
    "ax.axvline(twi12deg.plot_date, linestyle=':', label='12deg', color='k')\n",
    "# ax.axvline(handoff.plot_date, label='handoff', color='k')\n",
    "for start_time in tbdata['start']:\n",
    "    ax.axvline(start_time.plot_date, color='gray', lw=0.5, ls=':')\n",
    "ax.legend(ncol=3, loc='lower center')\n",
    "#ax.set_xlim(pre_twi15deg.plot_date-0.05, handoff.plot_date+0.05)\n",
    "ax.set_xlim(handoff.plot_date-0.05, twi12deg.plot_date+0.05)\n",
    "ax.set_ylim(ymax=0.95)\n",
    "plt.grid()\n",
    "plt.savefig('schedule.pdf')"
   ]
  },
  {
   "cell_type": "code",
   "execution_count": null,
   "metadata": {},
   "outputs": [],
   "source": [
    "handoff"
   ]
  },
  {
   "cell_type": "markdown",
   "metadata": {},
   "source": [
    "# Backup"
   ]
  },
  {
   "cell_type": "code",
   "execution_count": null,
   "metadata": {},
   "outputs": [],
   "source": [
    "tab = \"\"\"2024iss     12:59:06.14 +28:48:42.5 15.8 3x900\n",
    "2024cld     15:50:21.61 +18:56:21.1 18.1 4x1200\n",
    "end     00:00:00     -90:00:00.  99 1x1 \"\"\"\n",
    "\n",
    "# 2024drv     13:38:27.85 +33:06:55.7 19   5x1200\n",
    "# 2024gbc     14:34:31.49 +58:18:33.0 18.9 5x1200\n",
    "# 2024iwi     14:35:19.09 +51:17:39.4 18.3 4x1200\n",
    "# 2024jlf     14:37:42.32 +02:17:04.2 15.7 3x900\n"
   ]
  },
  {
   "cell_type": "code",
   "execution_count": null,
   "metadata": {},
   "outputs": [],
   "source": [
    "row_list = tab.split('\\n')\n",
    "tbdata = Table(names=['name', 'ra', 'dec', 'mag', 'exposure'], dtype=('S10', 'S11', 'S11', 'S10', 'S10'))\n",
    "for irow in row_list:\n",
    "    tbdata.add_row(irow.split())"
   ]
  },
  {
   "cell_type": "code",
   "execution_count": null,
   "metadata": {},
   "outputs": [],
   "source": [
    "nexp = []\n",
    "exptime = []\n",
    "for irow in tbdata:\n",
    "    inexp, iexptime = irow['exposure'].split('x')\n",
    "    nexp.append(float(inexp))\n",
    "    exptime.append(float(iexptime))\n",
    "tbdata['nexp'] = nexp\n",
    "tbdata['exptime'] = exptime"
   ]
  },
  {
   "cell_type": "code",
   "execution_count": null,
   "metadata": {},
   "outputs": [],
   "source": [
    "tbdata"
   ]
  },
  {
   "cell_type": "code",
   "execution_count": null,
   "metadata": {},
   "outputs": [],
   "source": [
    "night_start = handoff\n",
    "#night_start = Time(pre_twi15deg.iso)\n",
    "readout_time = 195*u.second\n",
    "slew = 300*u.second\n",
    "obs_start = [night_start]\n",
    "start_time = night_start\n",
    "for irow in tbdata:\n",
    "    start_time +=irow['exptime']*irow['nexp']*u.second+readout_time*(irow['nexp']-1) + slew\n",
    "    obs_start.append(start_time)"
   ]
  },
  {
   "cell_type": "code",
   "execution_count": null,
   "metadata": {},
   "outputs": [],
   "source": [
    "tbdata['start'] = obs_start[:-1]"
   ]
  },
  {
   "cell_type": "code",
   "execution_count": null,
   "metadata": {},
   "outputs": [],
   "source": [
    "tbdata"
   ]
  },
  {
   "cell_type": "code",
   "execution_count": null,
   "metadata": {},
   "outputs": [],
   "source": [
    "tbdata.write('../plan_backup.txt', format='ascii.fixed_width', overwrite=True)"
   ]
  },
  {
   "cell_type": "code",
   "execution_count": null,
   "metadata": {},
   "outputs": [],
   "source": [
    "fig = plt.figure(figsize=(9,6))\n",
    "fig.subplotpars.update(bottom=0.15)\n",
    "ax = fig.add_subplot(111)\n",
    "# ax.axhline(1/np.cos(((90-33)*u.degree).to(u.radian)), color='k', ls='--', label='Keck rising target lim')\n",
    "#ax.axhline(1/np.cos(((90-18)*u.degree).to(u.radian)), color='k', ls='--', label='Keck rising target lim')\n",
    "#time = today+np.linspace(0, 0.32, 100)\n",
    "last_time = handoff\n",
    "for indx, cycle in enumerate(custom_cycler):\n",
    "    try:\n",
    "        irow = tbdata[indx]\n",
    "    except IndexError:\n",
    "        break\n",
    "    itarget = astroplan.FixedTarget(coord=SkyCoord(ra=irow['ra'], dec=irow['dec'], unit=(u.hourangle, u.degree)), \n",
    "                                   name=irow['name'])\n",
    "    try:\n",
    "        time = irow['start'] + np.linspace(0,(tbdata[indx+1]['start']-irow['start']).value, 20)\n",
    "    except IndexError:\n",
    "        time = irow['start'] + np.linspace(0,(handoff-irow['start']).value, 20)\n",
    "    plots.plot_airmass(itarget, observer, time, altitude_yaxis=True, ax=ax, style_kwargs=cycle)\n",
    "ax.axvline(twi12deg.plot_date, linestyle=':', label='12deg', color='k')\n",
    "ax.axvline(twi18deg.plot_date, label='18deg', color='k')\n",
    "ax.axvline(twi15deg.plot_date, linestyle=':', label='15deg', color='red')\n",
    "# ax.axvline(handoff.plot_date, label='handoff', color='k')\n",
    "ax.axvline(pre_twi12deg.plot_date, color='k',  ls=':')\n",
    "ax.axvline(pre_twi15deg.plot_date, color='red', ls=':')\n",
    "ax.axvline(pre_twi18deg.plot_date, color='k',label='start')\n",
    "for start_time in tbdata['start']:\n",
    "    ax.axvline(start_time.plot_date, color='gray', lw=0.5, ls=':')\n",
    "ax.legend(ncol=3, loc='lower center')\n",
    "#ax.set_xlim(pre_twi15deg.plot_date-0.05, handoff.plot_date+0.05)\n",
    "ax.set_xlim(handoff.plot_date-0.05, twi12deg.plot_date+0.05)\n",
    "ax.set_ylim(ymax=0.95)\n",
    "plt.grid()\n",
    "plt.savefig('schedule_backup.pdf')"
   ]
  },
  {
   "cell_type": "code",
   "execution_count": null,
   "metadata": {},
   "outputs": [],
   "source": []
  }
 ],
 "metadata": {
  "kernelspec": {
   "display_name": "Python 3 (ipykernel)",
   "language": "python",
   "name": "python3"
  },
  "language_info": {
   "codemirror_mode": {
    "name": "ipython",
    "version": 3
   },
   "file_extension": ".py",
   "mimetype": "text/x-python",
   "name": "python",
   "nbconvert_exporter": "python",
   "pygments_lexer": "ipython3",
   "version": "3.9.13"
  },
  "vscode": {
   "interpreter": {
    "hash": "701303b3b48a211f202b899b2811e621ee2801fda49430b30be10b0872b92f07"
   }
  }
 },
 "nbformat": 4,
 "nbformat_minor": 2
}
