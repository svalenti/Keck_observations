{
 "cells": [
  {
   "cell_type": "code",
   "execution_count": 2,
   "metadata": {},
   "outputs": [
    {
     "name": "stdout",
     "output_type": "stream",
     "text": [
      "Using matplotlib backend: Qt5Agg\n"
     ]
    }
   ],
   "source": [
    "import numpy as np\n",
    "import astroplan\n",
    "from astroplan import plots\n",
    "from astropy.coordinates import SkyCoord\n",
    "from astropy.time import Time\n",
    "import astropy.units as u\n",
    "from matplotlib import pyplot as plt\n",
    "from astropy.table import Table\n",
    "from matplotlib import cycler\n",
    "%matplotlib "
   ]
  },
  {
   "cell_type": "markdown",
   "metadata": {},
   "source": [
    "# DEIMOS:"
   ]
  },
  {
   "cell_type": "code",
   "execution_count": 78,
   "metadata": {},
   "outputs": [],
   "source": [
    "from astropy.io import ascii as asc, fits\n",
    "from utilities_az import spectroscopy as spec"
   ]
  },
  {
   "cell_type": "code",
   "execution_count": 42,
   "metadata": {},
   "outputs": [],
   "source": [
    "GG400 = asc.read('GG400_5500_600ZD.txt')\n",
    "OG550 = asc.read('OG550_7500_600ZD.txt')\n",
    "GG455 = asc.read('GG455_6500_600ZD.txt')"
   ]
  },
  {
   "cell_type": "code",
   "execution_count": 88,
   "metadata": {},
   "outputs": [],
   "source": [
    "spec_17cq = fits.getdata('DLT17cq_20180812_2458343.01612_1.fits', 1)\n",
    "spec_18is = fits.getdata('2018is_20190205_2458520.07207_1.fits', 1)\n",
    "spec_18aoq = fits.getdata('2018aoq_20181205_2458458.13273_1.fits', 1)\n",
    "ofile = fits.open('AT2019krl_Bino.fits')\n",
    "flux_19krl = ofile[0].data/1E-15\n",
    "wave_19krl = spec.calc_wavelength(ofile[0].header, np.arange(len(flux_19krl)))"
   ]
  },
  {
   "cell_type": "code",
   "execution_count": null,
   "metadata": {},
   "outputs": [],
   "source": [
    "Important Lines"
   ]
  },
  {
   "cell_type": "markdown",
   "metadata": {},
   "source": [
    "### Line profile shape (velocity distribution and mixing)\n",
    "* Ha\n",
    "* [OI] 6300, 6364\n",
    "* [CaII] 7291, 7323\n",
    "* [FeII] 7155, 7172"
   ]
  },
  {
   "cell_type": "code",
   "execution_count": 91,
   "metadata": {},
   "outputs": [
    {
     "data": {
      "text/plain": [
       "[<matplotlib.lines.Line2D at 0x1533e59b70>]"
      ]
     },
     "execution_count": 91,
     "metadata": {},
     "output_type": "execute_result"
    }
   ],
   "source": [
    "fig = plt.figure()\n",
    "plt.plot(flux_19krl)"
   ]
  },
  {
   "cell_type": "code",
   "execution_count": 133,
   "metadata": {},
   "outputs": [
    {
     "name": "stderr",
     "output_type": "stream",
     "text": [
      "/Users/bostroem/anaconda/envs/astroconda3/lib/python3.5/site-packages/matplotlib/axes/_base.py:3116: MatplotlibDeprecationWarning: \n",
      "The `xmin` argument was deprecated in Matplotlib 3.0 and will be removed in 3.2. Use `left` instead.\n",
      "  alternative='`left`', obj_type='argument')\n"
     ]
    }
   ],
   "source": [
    "fig = plt.figure()\n",
    "ax = fig.add_subplot(1,1,1)\n",
    "ax2 = ax.twinx()\n",
    "ax.plot(GG400['wav'], GG400['eff'], label='GG400 cenwave=5500')\n",
    "ax.plot(GG455['wav'], GG455['eff'], label='GG455 cenwave=7500')\n",
    "ax.plot(OG550['wav'], OG550['eff'], label='OG550 cenwave=6500')\n",
    "\n",
    "ax2.plot(spec_17cq['wave'], spec_17cq['flux'], label='17cq', color='C3')\n",
    "ax2.plot(spec_18is['wave'], spec_18is['flux'], label='18is', color='C4')\n",
    "ax2.plot(spec_18aoq['wave'], spec_18aoq['flux'], label='18aoq', color='C5')\n",
    "#ax2.plot(wave_19krl, flux_19krl, label='19krl', color='C6')\n",
    "\n",
    "ax2.annotate('MgI] 4571', (4571, 9E-16), rotation=90, xytext=(4571, 9E-16)   ,ha='center')\n",
    "ax2.annotate('[OI] 6300', (6300, 9E-16), rotation=90, xytext=(6300, 9E-16)   ,ha='center')\n",
    "ax2.annotate('Ha 6563', (6563, 9E-16), rotation=90, xytext=(6563, 9E-16)     ,ha='center')\n",
    "ax2.annotate('[CaII] 7291', (7291, 9E-16), rotation=90, xytext=(7291, 9E-16) ,ha='center')\n",
    "ax2.annotate('CaII 8662', (8662, 9E-16), rotation=90, xytext=(8662, 9E-16) ,ha='center')\n",
    "\n",
    "ax2.vlines([4571,6300, 6563, 7291, 8662], ymin=5E-16, ymax=7E-16, linestyle=':' )\n",
    "\n",
    "ax.axvline(5500, color='C0', ls='--')\n",
    "ax.axvline(7500, color='C2', ls='--')\n",
    "ax.axvline(6500, color='C1', ls='--')\n",
    "\n",
    "ax.legend(loc=6, fontsize='x-small')\n",
    "ax2.legend(loc=2, fontsize='x-small')\n",
    "ax.set_xlim(xmin=2000)\n",
    "\n",
    "ax2.set_ylim(-1E-16, 10E-16)\n",
    "plt.savefig('deimos_tp_typeII.pdf')"
   ]
  },
  {
   "cell_type": "code",
   "execution_count": 54,
   "metadata": {},
   "outputs": [],
   "source": [
    "plt.annotate?"
   ]
  },
  {
   "cell_type": "markdown",
   "metadata": {},
   "source": [
    "# Plan"
   ]
  },
  {
   "cell_type": "code",
   "execution_count": 2,
   "metadata": {},
   "outputs": [
    {
     "name": "stdout",
     "output_type": "stream",
     "text": [
      "Downloading http://maia.usno.navy.mil/ser7/finals2000A.all [Done]\n"
     ]
    }
   ],
   "source": [
    "astroplan.download_IERS_A()"
   ]
  },
  {
   "cell_type": "code",
   "execution_count": 3,
   "metadata": {},
   "outputs": [
    {
     "name": "stdout",
     "output_type": "stream",
     "text": [
      "#1f77b4\n",
      "#ff7f0e\n",
      "#2ca02c\n",
      "#d62728\n",
      "#9467bd\n",
      "#8c564b\n",
      "#e377c2\n",
      "#7f7f7f\n",
      "#bcbd22\n",
      "#17becf\n"
     ]
    }
   ],
   "source": [
    "colors = [icolor['color'] for icolor in plt.rcParams['axes.prop_cycle'] ]\n",
    "custom_cycler = cycler(linestyle=['-', '--'])*cycler(color=colors)\n",
    "#plt.rcParams['axes.prop_cycle'] = custom_cycler\n",
    "#plt.rc('axes', prop_cycle=custom_cycler)\n",
    "\n",
    "for d in colors:\n",
    "    print(d)"
   ]
  },
  {
   "cell_type": "code",
   "execution_count": 4,
   "metadata": {},
   "outputs": [],
   "source": [
    "observer = astroplan.Observer.at_site('keck')\n"
   ]
  },
  {
   "cell_type": "code",
   "execution_count": 5,
   "metadata": {},
   "outputs": [],
   "source": [
    "today = Time('2019-08-27 08:45:00', scale='utc')\n"
   ]
  },
  {
   "cell_type": "code",
   "execution_count": 6,
   "metadata": {},
   "outputs": [
    {
     "name": "stdout",
     "output_type": "stream",
     "text": [
      "2019-08-27 15:16:29.712\n",
      "2019-08-27 14:49:50.508\n",
      "2019-08-27 15:03:13.170\n"
     ]
    }
   ],
   "source": [
    "twi12deg = observer.twilight_morning_nautical(today)\n",
    "print(twi12deg.iso)\n",
    "\n",
    "twi18deg = observer.twilight_morning_astronomical(today)\n",
    "print(twi18deg.iso)\n",
    "\n",
    "pre_twi18deg = observer.twilight_evening_astronomical(today)\n",
    "\n",
    "twi15deg = observer.sun_rise_time(today, horizon=-15*u.degree)\n",
    "print(twi15deg.iso)\n",
    "\n",
    "handoff = Time('2019-08-27 10:24:00', scale='utc')"
   ]
  },
  {
   "cell_type": "markdown",
   "metadata": {},
   "source": [
    "#### Standards"
   ]
  },
  {
   "cell_type": "code",
   "execution_count": 17,
   "metadata": {},
   "outputs": [],
   "source": [
    "gd71           =astroplan.FixedTarget(coord=SkyCoord('05:52:27.51', '+15:53:16.6', unit=(u.hourangle, u.degree)),\n",
    "                                      name='gd71')\n",
    "BD284211       =astroplan.FixedTarget(coord=SkyCoord('21:51:11.02',  '+28:51:50.4',unit=(u.hourangle, u.degree)),\n",
    "                                      name='BD284211')#30 s\tR~10.7\tblue standard  (sdOp)\n",
    "BD174708       =astroplan.FixedTarget(coord=SkyCoord('22:11:31.37',  '+18:05:34.2',unit=(u.hourangle, u.degree)),\n",
    "                                      name='BD174708')#10 s\tR~9.2\tred standard\n",
    "HD19445        =astroplan.FixedTarget(coord=SkyCoord('03:08:25.86',  '+26:20:05.7',unit=(u.hourangle, u.degree)),\n",
    "                                      name='HD19445')#10 s\tR~7.8\tred standard\n",
    "G191B2B        =astroplan.FixedTarget(coord=SkyCoord('05:05:30.60',  '+52:49:54.0',unit=(u.hourangle, u.degree)),\n",
    "                                      name='G191B2B')#60 s\tR~11.9\tblue standard (DA0)\n",
    "HD84937        =astroplan.FixedTarget(coord=SkyCoord('09:48:56.09',  '+13:44:39.3',unit=(u.hourangle, u.degree)),\n",
    "                                      name='HD84937')#10 s\tV~8.3\tred standard\n",
    "Feige34        =astroplan.FixedTarget(coord=SkyCoord('10:39:36.74',  '+43:06:09.3',unit=(u.hourangle, u.degree)),\n",
    "                                      name='Feige34')#60 s\tV~11.3\tblue standard (DO)\n",
    "HZ44           =astroplan.FixedTarget(coord=SkyCoord('13:23:35.26',  '+36:07:59.5',unit=(u.hourangle, u.degree)),\n",
    "                                      name='HZ44')#60 s\tV~11.7\tblue standard\n",
    "BD262606       =astroplan.FixedTarget(coord=SkyCoord('14:49:02.35',  '+25:42:09.1',unit=(u.hourangle, u.degree)),\n",
    "                                      name='BD262606')#20 s\tV~9.7\tred standard\n",
    "BD33d2642      =astroplan.FixedTarget(coord=SkyCoord('15:51:59.86',  '+32:56:54.8',unit=(u.hourangle, u.degree)),\n",
    "                                      name='BD33d2642')#30 s\tV~10.81\t(B2IV)\n",
    "Feige110       =astroplan.FixedTarget(coord=SkyCoord('23:19:58.39',  '-05:09:55.8',unit=(u.hourangle, u.degree)),\n",
    "                                      name='Feige110')#60 s\tV~11.83\t(DOp)\n",
    "Feige66       = astroplan.FixedTarget(coord=SkyCoord('12:37:23.6',  '+25:04:00',unit=(u.hourangle, u.degree)),\n",
    "                                      name='Feige66')#\tV~10.5\t(sdO)\n",
    "\n",
    "HZ4           = astroplan.FixedTarget(coord=SkyCoord('03:55:21.7','+09:47:18',unit=(u.hourangle, u.degree)),\n",
    "                                      name='HZ4')#\tDA4\t14.52\t3850\t8850\t1,3\n",
    "PG0205134     = astroplan.FixedTarget(coord=SkyCoord('02:08:03.44', '+13:36:30.9',unit=(u.hourangle, u.degree)),\n",
    "                                      name='PG0205134')#\tsdOB\t14.87\t3200\t8100\t5\n",
    "\n",
    "Feige11       = astroplan.FixedTarget(coord=SkyCoord('01:04:21.6', '+04:13:37',unit=(u.hourangle, u.degree)),\n",
    "                                      name='Feige11')#\tsdB\t12.07\t3850\t8850\t3\n",
    "\n",
    "Hiltner600    = astroplan.FixedTarget(coord=SkyCoord('06:45:13.40', '+02:08:14.1',unit=(u.hourangle, u.degree)),\n",
    "                                      name='Hiltner600')#\tB1V\t10.45\t3200\t10300\t5, 6, 2"
   ]
  },
  {
   "cell_type": "code",
   "execution_count": 18,
   "metadata": {},
   "outputs": [],
   "source": [
    "stds = [gd71, BD284211, BD174708, HD19445, G191B2B, HD84937, Feige34, HZ44, BD262606, BD33d2642, \n",
    "        Feige110, Feige66, HZ4,PG0205134, Feige11, Hiltner600 ]"
   ]
  },
  {
   "cell_type": "markdown",
   "metadata": {},
   "source": [
    "#### Choose Standards for the night"
   ]
  },
  {
   "cell_type": "code",
   "execution_count": 19,
   "metadata": {},
   "outputs": [],
   "source": [
    "from astropy.utils.iers import conf\n",
    "conf.auto_max_age = None\n",
    "time = today+np.linspace(0, 0.32, 100)\n",
    "plt.figure()\n",
    "for istd, istyle in zip(stds, custom_cycler):\n",
    "    plots.plot_airmass(istd, observer, time, style_kwargs=istyle)\n",
    "plt.axvline(twi12deg.plot_date, linestyle=':', label='12deg', color='k')\n",
    "plt.axvline(twi18deg.plot_date, label='18deg', color='k')\n",
    "plt.axvline(handoff.plot_date, label='handoff', color='k')\n",
    "plt.legend(ncol=3, loc='lower center')\n",
    "plt.grid()"
   ]
  },
  {
   "cell_type": "code",
   "execution_count": 210,
   "metadata": {},
   "outputs": [
    {
     "data": {
      "text/plain": [
       "{'color': '#2ca02c', 'linestyle': '-'}"
      ]
     },
     "execution_count": 210,
     "metadata": {},
     "output_type": "execute_result"
    }
   ],
   "source": [
    "istyle"
   ]
  },
  {
   "cell_type": "code",
   "execution_count": 105,
   "metadata": {},
   "outputs": [],
   "source": [
    "chosen_stds = [Feige110, HD19445]"
   ]
  },
  {
   "cell_type": "markdown",
   "metadata": {},
   "source": [
    "#### Targets"
   ]
  },
  {
   "cell_type": "code",
   "execution_count": 146,
   "metadata": {},
   "outputs": [],
   "source": [
    "\n",
    "sn2017gmr = astroplan.FixedTarget(coord=SkyCoord('02:35:30.15', '-09:21:15.0', unit=(u.hourangle, u.degree)),\n",
    "                                  name='2017gmr')\n",
    "sn2019krl = astroplan.FixedTarget(coord=SkyCoord('01:36:49.63', '+15:46:46.1', unit=(u.hourangle, u.degree)),\n",
    "                                  name='2019krl')\n",
    "sn2018gjx = astroplan.FixedTarget(coord=SkyCoord('02:16:15.55', '+28:35:28.7', unit=(u.hourangle, u.degree)),\n",
    "                                  name='2018gjx')\n",
    "sn2018ivc = astroplan.FixedTarget(coord=SkyCoord('02:42:41.29', '-00:00:31.8', unit=(u.hourangle, u.degree)),\n",
    "                                  name='2018ivc')\n",
    "\n",
    "sn2017eaw = astroplan.FixedTarget(coord=SkyCoord('20:34:44.24',  '+60:11:35.9', unit=(u.hourangle, u.degree)),\n",
    "                                                 name='2017eaw')\n",
    "sn2018eog = astroplan.FixedTarget(coord=SkyCoord( '20:28:12.03',  '-03:08:11.2', unit=(u.hourangle, u.degree)),\n",
    "                                                  name='2018eog')\n",
    "sn2018evy = astroplan.FixedTarget(coord=SkyCoord('18:22:38.17',  '+15:41:47.6', unit=(u.hourangle, u.degree)),\n",
    "                                 name='2018evy')\n",
    "\n",
    "sn2018zd = astroplan.FixedTarget(coord=SkyCoord('06:18:03.18' '+78:22:00.9', unit=(u.hourangle, u.degree)),\n",
    "                                name='2018zd')"
   ]
  },
  {
   "cell_type": "code",
   "execution_count": 147,
   "metadata": {},
   "outputs": [],
   "source": [
    "targets = [sn2017gmr, sn2019krl, sn2018gjx, sn2018ivc, sn2017eaw, sn2018eog, sn2018evy, sn2018zd]"
   ]
  },
  {
   "cell_type": "markdown",
   "metadata": {},
   "source": [
    "#### Plot Objects for the night"
   ]
  },
  {
   "cell_type": "code",
   "execution_count": 26,
   "metadata": {},
   "outputs": [],
   "source": [
    "\n",
    "plt.close()\n",
    "fig = plt.figure()\n",
    "fig.subplotpars.update(bottom=0.15)\n",
    "ax = fig.add_subplot(111)\n",
    "ax.axhline(1/np.cos(((90-33)*u.degree).to(u.radian)), color='k', ls='--', label='Keck rising target lim')\n",
    "time = today+np.linspace(-0.2, 0.32, 100)\n",
    "for std in chosen_stds:\n",
    "    plots.plot_airmass(std, observer, time, style_kwargs={'linestyle':':'})\n",
    "\n",
    "for cycle, itarget in zip(custom_cycler,targets):\n",
    "    plots.plot_airmass(itarget, observer, time, altitude_yaxis=True, ax=ax, style_kwargs=cycle)\n",
    "ax.axvline(twi12deg.plot_date, linestyle=':', label='12deg', color='k')\n",
    "ax.axvline(twi18deg.plot_date, label='18deg', color='k')\n",
    "ax.axvline(handoff.plot_date, label='handoff', color='k')\n",
    "ax.axvline(pre_twi18deg.plot_date, color='k', ls=':')\n",
    "#plt.axhline()\n",
    "ax.legend(ncol=3, loc='lower center')\n",
    "\n",
    "plt.grid()\n",
    "plt.savefig('visibility.pdf')"
   ]
  },
  {
   "cell_type": "code",
   "execution_count": null,
   "metadata": {},
   "outputs": [],
   "source": [
    "Want to do 2-3 exposures - CR are an issue\n",
    "Blue side is significantly fainter than red side\n",
    "5500-8500 is where throughput is optimized. If want higher S/N blueward of 5500, then need to increase exposure time\n",
    "Move hour to 45 min, keep an hour if we want to be safe\n",
    "wavelength coverage 2600 on either side of detector gap\n",
    "\n",
    "Arcs: Ne Ar Kr Xe 1s red side\n",
    "    Cd Zn Mercury 3s blue side\n",
    "    Cd Zn 12s blue side\n",
    "    \n",
    "    7200 and 7900 central wavelength\n",
    "Flat: 3x6s"
   ]
  },
  {
   "cell_type": "markdown",
   "metadata": {},
   "source": [
    "# Make a schedule"
   ]
  },
  {
   "cell_type": "markdown",
   "metadata": {},
   "source": [
    "2018acj  13:48:40.63 +43:25:04.7   22-23  4x1200   \n",
    "2018yu   05:22:32.36 -11:29:13.8   21.5   2x1200"
   ]
  },
  {
   "cell_type": "code",
   "execution_count": 28,
   "metadata": {},
   "outputs": [],
   "source": [
    "tab = \"\"\"BD174708 22:11:31.37 +18:05:34.2   9.2 1x10\n",
    "2018eog  20:28:12.03 -03:08:11.2   22.5      3x1200\n",
    "2017gmr  02:35:30.15 -09:21:15.0   22        3x800\n",
    "2019krl  01:36:49.63 +15:46:46.1   21        3x400\n",
    "2018ivc  02:42:41.29 -00:00:31.8   22        3x1200\n",
    "2018zd   06:18:03.18 +78:22:00.9   22        3x800\n",
    "Hiltner600 06:45:13.40 +02:08:14.1 10.45     1x30\n",
    "HD19445  03:08:25.86 +26:20:05.7    7.8   1x10\"\"\"  \n",
    "#2018gjx  02:16:15.55 +28:35:28.7   22.5?      3x1200\n",
    "#2018evy  18:22:38.17 +15:41:47.6   20      1x900\n",
    "#G191B2B  05:05:30.60 +52:49:54.00  11.9   1x60\n",
    "#Feige110     23:19:58.39  -05:09:55.8   12     1x60"
   ]
  },
  {
   "cell_type": "code",
   "execution_count": 29,
   "metadata": {},
   "outputs": [],
   "source": [
    "row_list = tab.split('\\n')\n",
    "tbdata = Table(names=['name', 'ra', 'dec', 'mag', 'exposure'], dtype=('S10', 'S11', 'S11', 'S10', 'S10'))\n",
    "for irow in row_list:\n",
    "    tbdata.add_row(irow.split())"
   ]
  },
  {
   "cell_type": "code",
   "execution_count": 30,
   "metadata": {},
   "outputs": [],
   "source": [
    "nexp = []\n",
    "exptime = []\n",
    "for irow in tbdata:\n",
    "    inexp, iexptime = irow['exposure'].split('x')\n",
    "    nexp.append(float(inexp))\n",
    "    exptime.append(float(iexptime))\n",
    "tbdata['nexp'] = nexp\n",
    "tbdata['exptime'] = exptime"
   ]
  },
  {
   "cell_type": "code",
   "execution_count": 31,
   "metadata": {},
   "outputs": [
    {
     "data": {
      "text/html": [
       "<i>Table length=8</i>\n",
       "<table id=\"table90699621152\" class=\"table-striped table-bordered table-condensed\">\n",
       "<thead><tr><th>name</th><th>ra</th><th>dec</th><th>mag</th><th>exposure</th><th>nexp</th><th>exptime</th></tr></thead>\n",
       "<thead><tr><th>bytes10</th><th>bytes11</th><th>bytes11</th><th>bytes10</th><th>bytes10</th><th>float64</th><th>float64</th></tr></thead>\n",
       "<tr><td>BD174708</td><td>22:11:31.37</td><td>+18:05:34.2</td><td>9.2</td><td>1x10</td><td>1.0</td><td>10.0</td></tr>\n",
       "<tr><td>2018eog</td><td>20:28:12.03</td><td>-03:08:11.2</td><td>22.5</td><td>3x1200</td><td>3.0</td><td>1200.0</td></tr>\n",
       "<tr><td>2017gmr</td><td>02:35:30.15</td><td>-09:21:15.0</td><td>22</td><td>3x800</td><td>3.0</td><td>800.0</td></tr>\n",
       "<tr><td>2019krl</td><td>01:36:49.63</td><td>+15:46:46.1</td><td>21</td><td>3x400</td><td>3.0</td><td>400.0</td></tr>\n",
       "<tr><td>2018ivc</td><td>02:42:41.29</td><td>-00:00:31.8</td><td>22</td><td>3x1200</td><td>3.0</td><td>1200.0</td></tr>\n",
       "<tr><td>2018zd</td><td>06:18:03.18</td><td>+78:22:00.9</td><td>22</td><td>3x800</td><td>3.0</td><td>800.0</td></tr>\n",
       "<tr><td>Hiltner600</td><td>06:45:13.40</td><td>+02:08:14.1</td><td>10.45</td><td>1x30</td><td>1.0</td><td>30.0</td></tr>\n",
       "<tr><td>HD19445</td><td>03:08:25.86</td><td>+26:20:05.7</td><td>7.8</td><td>1x10</td><td>1.0</td><td>10.0</td></tr>\n",
       "</table>"
      ],
      "text/plain": [
       "<Table length=8>\n",
       "   name         ra         dec       mag   exposure   nexp  exptime\n",
       " bytes10     bytes11     bytes11   bytes10 bytes10  float64 float64\n",
       "---------- ----------- ----------- ------- -------- ------- -------\n",
       "  BD174708 22:11:31.37 +18:05:34.2     9.2     1x10     1.0    10.0\n",
       "   2018eog 20:28:12.03 -03:08:11.2    22.5   3x1200     3.0  1200.0\n",
       "   2017gmr 02:35:30.15 -09:21:15.0      22    3x800     3.0   800.0\n",
       "   2019krl 01:36:49.63 +15:46:46.1      21    3x400     3.0   400.0\n",
       "   2018ivc 02:42:41.29 -00:00:31.8      22   3x1200     3.0  1200.0\n",
       "    2018zd 06:18:03.18 +78:22:00.9      22    3x800     3.0   800.0\n",
       "Hiltner600 06:45:13.40 +02:08:14.1   10.45     1x30     1.0    30.0\n",
       "   HD19445 03:08:25.86 +26:20:05.7     7.8     1x10     1.0    10.0"
      ]
     },
     "execution_count": 31,
     "metadata": {},
     "output_type": "execute_result"
    }
   ],
   "source": [
    "tbdata"
   ]
  },
  {
   "cell_type": "code",
   "execution_count": 32,
   "metadata": {},
   "outputs": [],
   "source": [
    "night_start = handoff\n",
    "readout_time = 127*u.second\n",
    "slew = 300*u.second\n",
    "obs_start = [night_start]\n",
    "start_time = night_start\n",
    "for irow in tbdata:\n",
    "    start_time +=irow['exptime']*irow['nexp']*u.second+readout_time*(irow['nexp']-1) + slew\n",
    "    obs_start.append(start_time)\n",
    "tbdata['start'] = obs_start[:-1]"
   ]
  },
  {
   "cell_type": "code",
   "execution_count": 33,
   "metadata": {},
   "outputs": [],
   "source": [
    "tbdata.write('../plan.txt', format='ascii.fixed_width', overwrite=True)"
   ]
  },
  {
   "cell_type": "code",
   "execution_count": 34,
   "metadata": {},
   "outputs": [
    {
     "name": "stderr",
     "output_type": "stream",
     "text": [
      "/Users/bostroem/anaconda/envs/astroconda3/lib/python3.5/site-packages/matplotlib/axes/_base.py:3455: MatplotlibDeprecationWarning: \n",
      "The `ymax` argument was deprecated in Matplotlib 3.0 and will be removed in 3.2. Use `top` instead.\n",
      "  alternative='`top`', obj_type='argument')\n"
     ]
    }
   ],
   "source": [
    "fig = plt.figure()\n",
    "fig.subplotpars.update(bottom=0.15)\n",
    "ax = fig.add_subplot(111)\n",
    "ax.axhline(1/np.cos(((90-36.8)*u.degree).to(u.radian)), color='k', ls='--', label='Keck II setting target lim')\n",
    "#ax.axhline(1/np.cos(((90-18)*u.degree).to(u.radian)), color='gray', ls='--', label='Keck II rising target lim')\n",
    "#time = today+np.linspace(0, 0.32, 100)\n",
    "last_time = handoff\n",
    "for indx, cycle in enumerate(custom_cycler):\n",
    "    try:\n",
    "        irow = tbdata[indx]\n",
    "    except IndexError:\n",
    "        break\n",
    "    itarget = astroplan.FixedTarget(coord=SkyCoord(ra=irow['ra'], dec=irow['dec'], unit=(u.hourangle, u.degree)), \n",
    "                                   name=irow['name'])\n",
    "    try:\n",
    "        time = irow['start'] + np.linspace(0,(tbdata[indx+1]['start']-irow['start']).value, 20)\n",
    "    except IndexError:\n",
    "        time = irow['start'] + np.linspace(0,(twi12deg-irow['start']).value, 20)\n",
    "    plots.plot_airmass(itarget, observer, time, altitude_yaxis=True, ax=ax, style_kwargs=cycle)\n",
    "ax.axvline(twi12deg.plot_date, linestyle=':', label='12deg', color='k')\n",
    "ax.axvline(twi18deg.plot_date, label='18deg', color='k')\n",
    "ax.axvline(handoff.plot_date, label='handoff', color='k')\n",
    "ax.axvline(pre_twi18deg.plot_date, color='k', ls=':')\n",
    "ax.axvline(twi15deg.plot_date, color='gray', ls=':')\n",
    "for start_time in tbdata['start']:\n",
    "    ax.axvline(start_time.plot_date, color='gray', lw=0.5, ls=':')\n",
    "ax.legend(ncol=3, loc='lower center')\n",
    "ax.set_xlim(handoff.plot_date-0.05, twi12deg.plot_date+0.05)\n",
    "ax.set_ylim(ymax=0.95)\n",
    "plt.grid()\n",
    "plt.savefig('schedule.pdf')"
   ]
  },
  {
   "cell_type": "markdown",
   "metadata": {},
   "source": [
    "# Backup targets:"
   ]
  },
  {
   "cell_type": "markdown",
   "metadata": {},
   "source": [
    "2018hmx  08:33:39.34 +55:35:53.0  18.5    2x600"
   ]
  },
  {
   "cell_type": "code",
   "execution_count": 22,
   "metadata": {},
   "outputs": [],
   "source": [
    "backup_tab = '''HD84937  09:48:56.09 +13:44:39.3   8.3    1x10\n",
    "placeholder 00:00:00.00 00:00:00.0 99     1x3600\n",
    "2018is   13:16:57.35 -16:37:04.4   22     7x1200\n",
    "2018aoz  11:51:01.79 -28:44:38.4   20     2x900\n",
    "2018gep  16:43:48.20 +41:02:43.3   19.75  2x900\n",
    "BD33d2642 15:51:59.86 +32:56:54.8  10.81  1x30\n",
    "Feige34  10:39:36.74 +43:06:09.3   11.3   1x60'''"
   ]
  },
  {
   "cell_type": "code",
   "execution_count": 23,
   "metadata": {},
   "outputs": [],
   "source": [
    "backup_row_list = backup_tab.split('\\n')\n",
    "backup_tbdata = Table(names=['name', 'ra', 'dec', 'mag', 'exposure'], dtype=('S10', 'S11', 'S11', 'S10', 'S10'))\n",
    "for irow in backup_row_list:\n",
    "    backup_tbdata.add_row(irow.split())"
   ]
  },
  {
   "cell_type": "code",
   "execution_count": 24,
   "metadata": {},
   "outputs": [],
   "source": [
    "backup_nexp = []\n",
    "backup_exptime = []\n",
    "for irow in backup_tbdata:\n",
    "    inexp, iexptime = irow['exposure'].split('x')\n",
    "    backup_nexp.append(float(inexp))\n",
    "    backup_exptime.append(float(iexptime))\n",
    "backup_tbdata['nexp'] = backup_nexp\n",
    "backup_tbdata['exptime'] = backup_exptime"
   ]
  },
  {
   "cell_type": "code",
   "execution_count": 25,
   "metadata": {},
   "outputs": [],
   "source": [
    "night_start = handoff\n",
    "readout_time = 127*u.second\n",
    "slew = 300*u.second\n",
    "backup_obs_start = [night_start]\n",
    "backup_start_time = night_start\n",
    "for irow in backup_tbdata:\n",
    "    backup_start_time +=irow['exptime']*irow['nexp']*u.second+readout_time*(irow['nexp']-1) + slew\n",
    "    backup_obs_start.append(backup_start_time)"
   ]
  },
  {
   "cell_type": "code",
   "execution_count": 26,
   "metadata": {},
   "outputs": [],
   "source": [
    "backup_tbdata['start'] = backup_obs_start[:-1]"
   ]
  },
  {
   "cell_type": "code",
   "execution_count": 27,
   "metadata": {},
   "outputs": [],
   "source": [
    "backup_tbdata.write('../backup_plan.txt', format='ascii.fixed_width', overwrite=True)"
   ]
  },
  {
   "cell_type": "code",
   "execution_count": 28,
   "metadata": {},
   "outputs": [
    {
     "data": {
      "image/png": "[encoded data removed]",
      "text/plain": [
       "<Figure size 432x288 with 2 Axes>"
      ]
     },
     "metadata": {},
     "output_type": "display_data"
    }
   ],
   "source": [
    "fig = plt.figure()\n",
    "fig.subplotpars.update(bottom=0.15)\n",
    "ax = fig.add_subplot(111)\n",
    "ax.axhline(1/np.cos(((90-33)*u.degree).to(u.radian)), color='k', ls='--', label='Keck rising target lim')\n",
    "#time = today+np.linspace(0, 0.32, 100)\n",
    "last_time = handoff\n",
    "for indx, cycle in enumerate(custom_cycler):\n",
    "    try:\n",
    "        irow = backup_tbdata[indx]\n",
    "    except IndexError:\n",
    "        break\n",
    "    itarget = astroplan.FixedTarget(coord=SkyCoord(ra=irow['ra'], dec=irow['dec'], unit=(u.hourangle, u.degree)), \n",
    "                                   name=irow['name'])\n",
    "    try:\n",
    "        time = irow['start'] + np.linspace(0,(backup_tbdata[indx+1]['start']-irow['start']).value, 20)\n",
    "    except IndexError:\n",
    "        time = irow['start'] + np.linspace(0,(twi12deg-irow['start']).value, 20)\n",
    "    plots.plot_airmass(itarget, observer, time, altitude_yaxis=True, ax=ax, style_kwargs=cycle)\n",
    "ax.axvline(twi12deg.plot_date, linestyle=':', label='12deg', color='k')\n",
    "ax.axvline(twi18deg.plot_date, label='18deg', color='k')\n",
    "ax.axvline(handoff.plot_date, label='handoff', color='k')\n",
    "ax.axvline(pre_twi18deg.plot_date, color='k', ls=':')\n",
    "for start_time in backup_tbdata['start']:\n",
    "    ax.axvline(start_time.plot_date, color='gray', lw=0.5, ls=':')\n",
    "ax.legend(ncol=3, loc='lower center')\n",
    "ax.set_xlim(handoff.plot_date-0.05, twi12deg.plot_date+0.05)\n",
    "ax.set_ylim(ymax=0.95)\n",
    "plt.grid()\n",
    "plt.savefig('backup_schedule.pdf')"
   ]
  },
  {
   "cell_type": "code",
   "execution_count": 29,
   "metadata": {
    "scrolled": true
   },
   "outputs": [
    {
     "data": {
      "text/html": [
       "<i>Table length=7</i>\n",
       "<table id=\"table90651419648\" class=\"table-striped table-bordered table-condensed\">\n",
       "<thead><tr><th>name</th><th>ra</th><th>dec</th><th>mag</th><th>exposure</th><th>nexp</th><th>exptime</th><th>start</th></tr></thead>\n",
       "<thead><tr><th>bytes10</th><th>bytes11</th><th>bytes11</th><th>bytes10</th><th>bytes10</th><th>float64</th><th>float64</th><th>object</th></tr></thead>\n",
       "<tr><td>HD84937</td><td>09:48:56.09</td><td>+13:44:39.3</td><td>8.3</td><td>1x10</td><td>1.0</td><td>10.0</td><td>2019-02-05 10:36:00.000</td></tr>\n",
       "<tr><td>placeholde</td><td>00:00:00.00</td><td>00:00:00.0</td><td>99</td><td>1x3600</td><td>1.0</td><td>3600.0</td><td>2019-02-05 10:41:10.000</td></tr>\n",
       "<tr><td>2018is</td><td>13:16:57.35</td><td>-16:37:04.4</td><td>22</td><td>7x1200</td><td>7.0</td><td>1200.0</td><td>2019-02-05 11:46:10.000</td></tr>\n",
       "<tr><td>2018aoz</td><td>11:51:01.79</td><td>-28:44:38.4</td><td>20</td><td>2x900</td><td>2.0</td><td>900.0</td><td>2019-02-05 14:23:52.000</td></tr>\n",
       "<tr><td>2018gep</td><td>16:43:48.20</td><td>+41:02:43.3</td><td>19.75</td><td>2x900</td><td>2.0</td><td>900.0</td><td>2019-02-05 15:00:59.000</td></tr>\n",
       "<tr><td>BD33d2642</td><td>15:51:59.86</td><td>+32:56:54.8</td><td>10.81</td><td>1x30</td><td>1.0</td><td>30.0</td><td>2019-02-05 15:38:06.000</td></tr>\n",
       "<tr><td>Feige34</td><td>10:39:36.74</td><td>+43:06:09.3</td><td>11.3</td><td>1x60</td><td>1.0</td><td>60.0</td><td>2019-02-05 15:43:36.000</td></tr>\n",
       "</table>"
      ],
      "text/plain": [
       "<Table length=7>\n",
       "   name         ra         dec     ...   nexp  exptime          start         \n",
       " bytes10     bytes11     bytes11   ... float64 float64          object        \n",
       "---------- ----------- ----------- ... ------- ------- -----------------------\n",
       "   HD84937 09:48:56.09 +13:44:39.3 ...     1.0    10.0 2019-02-05 10:36:00.000\n",
       "placeholde 00:00:00.00  00:00:00.0 ...     1.0  3600.0 2019-02-05 10:41:10.000\n",
       "    2018is 13:16:57.35 -16:37:04.4 ...     7.0  1200.0 2019-02-05 11:46:10.000\n",
       "   2018aoz 11:51:01.79 -28:44:38.4 ...     2.0   900.0 2019-02-05 14:23:52.000\n",
       "   2018gep 16:43:48.20 +41:02:43.3 ...     2.0   900.0 2019-02-05 15:00:59.000\n",
       " BD33d2642 15:51:59.86 +32:56:54.8 ...     1.0    30.0 2019-02-05 15:38:06.000\n",
       "   Feige34 10:39:36.74 +43:06:09.3 ...     1.0    60.0 2019-02-05 15:43:36.000"
      ]
     },
     "execution_count": 29,
     "metadata": {},
     "output_type": "execute_result"
    }
   ],
   "source": [
    "backup_tbdata"
   ]
  },
  {
   "cell_type": "code",
   "execution_count": 30,
   "metadata": {},
   "outputs": [
    {
     "data": {
      "text/plain": [
       "'2019-02-05 15:40:36.422'"
      ]
     },
     "execution_count": 30,
     "metadata": {},
     "output_type": "execute_result"
    }
   ],
   "source": [
    "twi18deg.iso"
   ]
  },
  {
   "cell_type": "code",
   "execution_count": 32,
   "metadata": {},
   "outputs": [
    {
     "data": {
      "text/plain": [
       "'2019-02-05 05:30:59.907'"
      ]
     },
     "execution_count": 32,
     "metadata": {},
     "output_type": "execute_result"
    }
   ],
   "source": [
    "pre_twi18deg.iso"
   ]
  },
  {
   "cell_type": "code",
   "execution_count": null,
   "metadata": {},
   "outputs": [],
   "source": []
  }
 ],
 "metadata": {
  "kernelspec": {
   "display_name": "Python (astroconda3)",
   "language": "python",
   "name": "astroconda3"
  },
  "language_info": {
   "codemirror_mode": {
    "name": "ipython",
    "version": 3
   },
   "file_extension": ".py",
   "mimetype": "text/x-python",
   "name": "python",
   "nbconvert_exporter": "python",
   "pygments_lexer": "ipython3",
   "version": "3.5.6"
  }
 },
 "nbformat": 4,
 "nbformat_minor": 2
}
