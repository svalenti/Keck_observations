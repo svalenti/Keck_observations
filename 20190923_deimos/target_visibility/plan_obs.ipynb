{
 "cells": [
  {
   "cell_type": "code",
   "execution_count": 2,
   "metadata": {},
   "outputs": [
    {
     "name": "stdout",
     "output_type": "stream",
     "text": [
      "Using matplotlib backend: Qt5Agg\n"
     ]
    }
   ],
   "source": [
    "import numpy as np\n",
    "import astroplan\n",
    "from astroplan import plots\n",
    "from astropy.coordinates import SkyCoord\n",
    "from astropy.time import Time\n",
    "import astropy.units as u\n",
    "from matplotlib import pyplot as plt\n",
    "from astropy.table import Table\n",
    "from matplotlib import cycler\n",
    "%matplotlib "
   ]
  },
  {
   "cell_type": "markdown",
   "metadata": {},
   "source": [
    "# Plan"
   ]
  },
  {
   "cell_type": "code",
   "execution_count": 4,
   "metadata": {},
   "outputs": [
    {
     "name": "stdout",
     "output_type": "stream",
     "text": [
      "Downloading http://maia.usno.navy.mil/ser7/finals2000A.all [Done]\n"
     ]
    }
   ],
   "source": [
    "astroplan.download_IERS_A()"
   ]
  },
  {
   "cell_type": "code",
   "execution_count": 5,
   "metadata": {},
   "outputs": [
    {
     "name": "stdout",
     "output_type": "stream",
     "text": [
      "#1f77b4\n",
      "#ff7f0e\n",
      "#2ca02c\n",
      "#d62728\n",
      "#9467bd\n",
      "#8c564b\n",
      "#e377c2\n",
      "#7f7f7f\n",
      "#bcbd22\n",
      "#17becf\n"
     ]
    }
   ],
   "source": [
    "colors = [icolor['color'] for icolor in plt.rcParams['axes.prop_cycle'] ]\n",
    "custom_cycler = cycler(linestyle=['-', '--'])*cycler(color=colors)\n",
    "#plt.rcParams['axes.prop_cycle'] = custom_cycler\n",
    "#plt.rc('axes', prop_cycle=custom_cycler)\n",
    "\n",
    "for d in colors:\n",
    "    print(d)"
   ]
  },
  {
   "cell_type": "code",
   "execution_count": 6,
   "metadata": {},
   "outputs": [],
   "source": [
    "observer = astroplan.Observer.at_site('keck')\n"
   ]
  },
  {
   "cell_type": "code",
   "execution_count": 47,
   "metadata": {},
   "outputs": [],
   "source": [
    "today = Time('2019-09-23 04:00:00', scale='utc')\n"
   ]
  },
  {
   "cell_type": "code",
   "execution_count": 53,
   "metadata": {},
   "outputs": [
    {
     "name": "stdout",
     "output_type": "stream",
     "text": [
      "12 deg morn twilight 2019-09-23 15:23:25.357\n",
      "18 deg morn twilight 2019-09-23 14:57:47.398\n",
      "18 deg eve twilight 2019-09-23 05:31:12.609\n",
      "15 deg morn twilight 2019-09-23 15:10:37.074\n",
      "15 deg morn twilight 2019-09-23 05:18:23.156\n"
     ]
    }
   ],
   "source": [
    "twi12deg = observer.twilight_morning_nautical(today)\n",
    "print('12 deg morn twilight', twi12deg.iso)\n",
    "\n",
    "twi18deg = observer.twilight_morning_astronomical(today)\n",
    "print('18 deg morn twilight', twi18deg.iso)\n",
    "\n",
    "pre_twi18deg = observer.twilight_evening_astronomical(today)\n",
    "print('18 deg eve twilight', pre_twi18deg.iso)\n",
    "\n",
    "twi15deg = observer.sun_rise_time(today, horizon=-15*u.degree)\n",
    "print('15 deg morn twilight', twi15deg.iso)\n",
    "\n",
    "pre_twi15deg = observer.sun_set_time(today, horizon=-15*u.degree)\n",
    "print('15 deg morn twilight', pre_twi15deg.iso)\n",
    "\n",
    "\n",
    "\n",
    "handoff = Time('2019-09-23 10:14:00', scale='utc')"
   ]
  },
  {
   "cell_type": "markdown",
   "metadata": {},
   "source": [
    "#### Standards"
   ]
  },
  {
   "cell_type": "code",
   "execution_count": 9,
   "metadata": {},
   "outputs": [],
   "source": [
    "gd71           =astroplan.FixedTarget(coord=SkyCoord('05:52:27.51', '+15:53:16.6', unit=(u.hourangle, u.degree)),\n",
    "                                      name='gd71')\n",
    "BD284211       =astroplan.FixedTarget(coord=SkyCoord('21:51:11.02',  '+28:51:50.4',unit=(u.hourangle, u.degree)),\n",
    "                                      name='BD284211')#30 s\tR~10.7\tblue standard  (sdOp)\n",
    "BD174708       =astroplan.FixedTarget(coord=SkyCoord('22:11:31.37',  '+18:05:34.2',unit=(u.hourangle, u.degree)),\n",
    "                                      name='BD174708')#10 s\tR~9.2\tred standard\n",
    "HD19445        =astroplan.FixedTarget(coord=SkyCoord('03:08:25.86',  '+26:20:05.7',unit=(u.hourangle, u.degree)),\n",
    "                                      name='HD19445')#10 s\tR~7.8\tred standard\n",
    "G191B2B        =astroplan.FixedTarget(coord=SkyCoord('05:05:30.60',  '+52:49:54.0',unit=(u.hourangle, u.degree)),\n",
    "                                      name='G191B2B')#60 s\tR~11.9\tblue standard (DA0)\n",
    "HD84937        =astroplan.FixedTarget(coord=SkyCoord('09:48:56.09',  '+13:44:39.3',unit=(u.hourangle, u.degree)),\n",
    "                                      name='HD84937')#10 s\tV~8.3\tred standard\n",
    "Feige34        =astroplan.FixedTarget(coord=SkyCoord('10:39:36.74',  '+43:06:09.3',unit=(u.hourangle, u.degree)),\n",
    "                                      name='Feige34')#60 s\tV~11.3\tblue standard (DO)\n",
    "HZ44           =astroplan.FixedTarget(coord=SkyCoord('13:23:35.26',  '+36:07:59.5',unit=(u.hourangle, u.degree)),\n",
    "                                      name='HZ44')#60 s\tV~11.7\tblue standard\n",
    "BD262606       =astroplan.FixedTarget(coord=SkyCoord('14:49:02.35',  '+25:42:09.1',unit=(u.hourangle, u.degree)),\n",
    "                                      name='BD262606')#20 s\tV~9.7\tred standard\n",
    "BD33d2642      =astroplan.FixedTarget(coord=SkyCoord('15:51:59.86',  '+32:56:54.8',unit=(u.hourangle, u.degree)),\n",
    "                                      name='BD33d2642')#30 s\tV~10.81\t(B2IV)\n",
    "Feige110       =astroplan.FixedTarget(coord=SkyCoord('23:19:58.39',  '-05:09:55.8',unit=(u.hourangle, u.degree)),\n",
    "                                      name='Feige110')#60 s\tV~11.83\t(DOp)\n",
    "Feige66       = astroplan.FixedTarget(coord=SkyCoord('12:37:23.6',  '+25:04:00',unit=(u.hourangle, u.degree)),\n",
    "                                      name='Feige66')#\tV~10.5\t(sdO)\n",
    "\n",
    "HZ4           = astroplan.FixedTarget(coord=SkyCoord('03:55:21.7','+09:47:18',unit=(u.hourangle, u.degree)),\n",
    "                                      name='HZ4')#\tDA4\t14.52\t3850\t8850\t1,3\n",
    "PG0205134     = astroplan.FixedTarget(coord=SkyCoord('02:08:03.44', '+13:36:30.9',unit=(u.hourangle, u.degree)),\n",
    "                                      name='PG0205134')#\tsdOB\t14.87\t3200\t8100\t5\n",
    "\n",
    "Feige11       = astroplan.FixedTarget(coord=SkyCoord('01:04:21.6', '+04:13:37',unit=(u.hourangle, u.degree)),\n",
    "                                      name='Feige11')#\tsdB\t12.07\t3850\t8850\t3\n",
    "\n",
    "Hiltner600    = astroplan.FixedTarget(coord=SkyCoord('06:45:13.40', '+02:08:14.1',unit=(u.hourangle, u.degree)),\n",
    "                                      name='Hiltner600')#\tB1V\t10.45\t3200\t10300\t5, 6, 2\n",
    "LTT9239         = astroplan.FixedTarget(coord=SkyCoord('22 52 40.88', '-20 35 26.3', unit=(u.hourangle, u.degree)),\n",
    "                                      name='LTT9239')"
   ]
  },
  {
   "cell_type": "code",
   "execution_count": 10,
   "metadata": {},
   "outputs": [],
   "source": [
    "stds = [gd71, BD284211, BD174708, HD19445, G191B2B, HD84937, Feige34, HZ44, BD262606, BD33d2642, \n",
    "        Feige110, Feige66, HZ4,PG0205134, Feige11, Hiltner600, LTT9239 ]"
   ]
  },
  {
   "cell_type": "markdown",
   "metadata": {},
   "source": [
    "#### Choose Standards for the night"
   ]
  },
  {
   "cell_type": "code",
   "execution_count": 11,
   "metadata": {},
   "outputs": [],
   "source": [
    "from astropy.utils.iers import conf\n",
    "conf.auto_max_age = None\n",
    "time = today+np.linspace(0, 0.32, 100)\n",
    "plt.figure()\n",
    "for istd, istyle in zip(stds, custom_cycler):\n",
    "    plots.plot_airmass(istd, observer, time, style_kwargs=istyle)\n",
    "plt.axvline(twi12deg.plot_date, linestyle=':', label='12deg', color='k')\n",
    "plt.axvline(twi18deg.plot_date, label='18deg', color='k')\n",
    "plt.axvline(handoff.plot_date, label='handoff', color='k')\n",
    "plt.legend(ncol=3, loc='lower center')\n",
    "plt.grid()"
   ]
  },
  {
   "cell_type": "code",
   "execution_count": 12,
   "metadata": {},
   "outputs": [],
   "source": [
    "chosen_stds = [BD284211]"
   ]
  },
  {
   "cell_type": "markdown",
   "metadata": {},
   "source": [
    "#### Targets"
   ]
  },
  {
   "cell_type": "code",
   "execution_count": 13,
   "metadata": {},
   "outputs": [],
   "source": [
    "\n",
    "sn2017gmr = astroplan.FixedTarget(coord=SkyCoord('02:35:30.15', '-09:21:15.0', unit=(u.hourangle, u.degree)),\n",
    "                                  name='2017gmr')\n",
    "sn2019cvz = astroplan.FixedTarget(coord=SkyCoord('16:30:54.00', '+46:35:18.2', unit=(u.hourangle, u.degree)),\n",
    "                                  name='2019cvz')\n",
    "sn2019cbc = astroplan.FixedTarget(coord=SkyCoord('18:06:09.17', '+65:20:46.9', unit=(u.hourangle, u.degree)),\n",
    "                                  name='2019cbc')\n",
    "sn2019cmv = astroplan.FixedTarget(coord=SkyCoord('18:57:52.99', '+45:35:24.0', unit=(u.hourangle, u.degree)),\n",
    "                                  name='2019cmv')\n",
    "\n",
    "sn2019kbj = astroplan.FixedTarget(coord=SkyCoord('22:11:21.93',  '+19:37:03.5', unit=(u.hourangle, u.degree)),\n",
    "                                                 name='2019kbj')\n",
    "sn2019hnl = astroplan.FixedTarget(coord=SkyCoord( '23:43:10.24',  '-02:56:58.7', unit=(u.hourangle, u.degree)),\n",
    "                                                  name='2019hnl')"
   ]
  },
  {
   "cell_type": "code",
   "execution_count": 15,
   "metadata": {},
   "outputs": [],
   "source": [
    "targets = [sn2017gmr, sn2019cvz, sn2019cbc, sn2019cmv, sn2019kbj, sn2019hnl]"
   ]
  },
  {
   "cell_type": "markdown",
   "metadata": {},
   "source": [
    "#### Plot Objects for the night"
   ]
  },
  {
   "cell_type": "code",
   "execution_count": 18,
   "metadata": {},
   "outputs": [],
   "source": [
    "\n",
    "plt.close()\n",
    "fig = plt.figure()\n",
    "fig.subplotpars.update(bottom=0.15)\n",
    "ax = fig.add_subplot(111)\n",
    "ax.axhline(1/np.cos(((90-33)*u.degree).to(u.radian)), color='k', ls='--', label='Keck rising target lim')\n",
    "time = today+np.linspace(-0.2, 0.32, 100)\n",
    "for std in chosen_stds:\n",
    "    plots.plot_airmass(std, observer, time, style_kwargs={'linestyle':':'})\n",
    "\n",
    "for cycle, itarget in zip(custom_cycler,targets):\n",
    "    plots.plot_airmass(itarget, observer, time, altitude_yaxis=True, ax=ax, style_kwargs=cycle)\n",
    "ax.axvline(twi12deg.plot_date, linestyle=':', label='12deg', color='k')\n",
    "ax.axvline(twi18deg.plot_date, label='18deg', color='k')\n",
    "ax.axvline(handoff.plot_date, label='handoff', color='k')\n",
    "ax.axvline(pre_twi18deg.plot_date, color='k', ls=':')\n",
    "#plt.axhline()\n",
    "ax.legend(ncol=3, loc='lower center')\n",
    "\n",
    "plt.grid()\n",
    "plt.savefig('visibility.pdf')"
   ]
  },
  {
   "cell_type": "raw",
   "metadata": {},
   "source": [
    "Want to do 2-3 exposures - CR are an issue\n",
    "Blue side is significantly fainter than red side\n",
    "5500-8500 is where throughput is optimized. If want higher S/N blueward of 5500, then need to increase exposure time\n",
    "Move hour to 45 min, keep an hour if we want to be safe\n",
    "wavelength coverage 2600 on either side of detector gap\n",
    "\n",
    "Arcs: Ne Ar Kr Xe 1s red side\n",
    "    Cd Zn Mercury 3s blue side\n",
    "    Cd Zn 12s blue side\n",
    "    \n",
    "    7200 and 7900 central wavelength\n",
    "Flat: 3x6s"
   ]
  },
  {
   "cell_type": "markdown",
   "metadata": {},
   "source": [
    "# Make a schedule"
   ]
  },
  {
   "cell_type": "code",
   "execution_count": 91,
   "metadata": {},
   "outputs": [],
   "source": [
    "tab = \"\"\"BD284211     21:51:11.07  +28:51:51.8     10.7    1x10\n",
    "2019cvz  16:30:54.00 +46:35:18.2   19.5-20  2x900 \n",
    "2019cbc  18:06:09.17 +65:20:46.9   22       3x1200\n",
    "2019cmv  18:57:52.99 +45:35:24.0   20       2x900 \n",
    "2019kbj  22:11:21.93 +19:37:03.5   21       2x1200\n",
    "2018ilu  23:33:20.98 +04:48:34.7   22.2     2x1200\n",
    "2017gmr  02:35:30.15 -09:21:15.0   21       2x1200\n",
    "end      02:35:30.15 -09:21:15.0   21       1x1\"\"\"  \n",
    "#2019hnl  23:43:10.24 -02:56:58.7   19       2x600"
   ]
  },
  {
   "cell_type": "code",
   "execution_count": 92,
   "metadata": {},
   "outputs": [],
   "source": [
    "row_list = tab.split('\\n')\n",
    "tbdata = Table(names=['name', 'ra', 'dec', 'mag', 'exposure'], dtype=('S10', 'S11', 'S11', 'S10', 'S10'))\n",
    "for irow in row_list:\n",
    "    tbdata.add_row(irow.split())"
   ]
  },
  {
   "cell_type": "code",
   "execution_count": 93,
   "metadata": {},
   "outputs": [],
   "source": [
    "nexp = []\n",
    "exptime = []\n",
    "for irow in tbdata:\n",
    "    inexp, iexptime = irow['exposure'].split('x')\n",
    "    nexp.append(float(inexp))\n",
    "    exptime.append(float(iexptime))\n",
    "tbdata['nexp'] = nexp\n",
    "tbdata['exptime'] = exptime"
   ]
  },
  {
   "cell_type": "code",
   "execution_count": 94,
   "metadata": {},
   "outputs": [
    {
     "data": {
      "text/html": [
       "<i>Table length=8</i>\n",
       "<table id=\"table103615325912\" class=\"table-striped table-bordered table-condensed\">\n",
       "<thead><tr><th>name</th><th>ra</th><th>dec</th><th>mag</th><th>exposure</th><th>nexp</th><th>exptime</th></tr></thead>\n",
       "<thead><tr><th>bytes10</th><th>bytes11</th><th>bytes11</th><th>bytes10</th><th>bytes10</th><th>float64</th><th>float64</th></tr></thead>\n",
       "<tr><td>BD284211</td><td>21:51:11.07</td><td>+28:51:51.8</td><td>10.7</td><td>1x10</td><td>1.0</td><td>10.0</td></tr>\n",
       "<tr><td>2019cvz</td><td>16:30:54.00</td><td>+46:35:18.2</td><td>19.5-20</td><td>2x900</td><td>2.0</td><td>900.0</td></tr>\n",
       "<tr><td>2019cbc</td><td>18:06:09.17</td><td>+65:20:46.9</td><td>22</td><td>3x1200</td><td>3.0</td><td>1200.0</td></tr>\n",
       "<tr><td>2019cmv</td><td>18:57:52.99</td><td>+45:35:24.0</td><td>20</td><td>2x900</td><td>2.0</td><td>900.0</td></tr>\n",
       "<tr><td>2019kbj</td><td>22:11:21.93</td><td>+19:37:03.5</td><td>21</td><td>2x1200</td><td>2.0</td><td>1200.0</td></tr>\n",
       "<tr><td>2018ilu</td><td>23:33:20.98</td><td>+04:48:34.7</td><td>22.2</td><td>2x1200</td><td>2.0</td><td>1200.0</td></tr>\n",
       "<tr><td>2017gmr</td><td>02:35:30.15</td><td>-09:21:15.0</td><td>21</td><td>2x1200</td><td>2.0</td><td>1200.0</td></tr>\n",
       "<tr><td>end</td><td>02:35:30.15</td><td>-09:21:15.0</td><td>21</td><td>1x1</td><td>1.0</td><td>1.0</td></tr>\n",
       "</table>"
      ],
      "text/plain": [
       "<Table length=8>\n",
       "  name        ra         dec       mag   exposure   nexp  exptime\n",
       "bytes10    bytes11     bytes11   bytes10 bytes10  float64 float64\n",
       "-------- ----------- ----------- ------- -------- ------- -------\n",
       "BD284211 21:51:11.07 +28:51:51.8    10.7     1x10     1.0    10.0\n",
       " 2019cvz 16:30:54.00 +46:35:18.2 19.5-20    2x900     2.0   900.0\n",
       " 2019cbc 18:06:09.17 +65:20:46.9      22   3x1200     3.0  1200.0\n",
       " 2019cmv 18:57:52.99 +45:35:24.0      20    2x900     2.0   900.0\n",
       " 2019kbj 22:11:21.93 +19:37:03.5      21   2x1200     2.0  1200.0\n",
       " 2018ilu 23:33:20.98 +04:48:34.7    22.2   2x1200     2.0  1200.0\n",
       " 2017gmr 02:35:30.15 -09:21:15.0      21   2x1200     2.0  1200.0\n",
       "     end 02:35:30.15 -09:21:15.0      21      1x1     1.0     1.0"
      ]
     },
     "execution_count": 94,
     "metadata": {},
     "output_type": "execute_result"
    }
   ],
   "source": [
    "tbdata"
   ]
  },
  {
   "cell_type": "code",
   "execution_count": 95,
   "metadata": {},
   "outputs": [],
   "source": [
    "night_start = Time(pre_twi15deg.iso)\n",
    "readout_time = 127*u.second\n",
    "slew = 300*u.second\n",
    "obs_start = [night_start]\n",
    "start_time = night_start\n",
    "for irow in tbdata:\n",
    "    start_time +=irow['exptime']*irow['nexp']*u.second+readout_time*(irow['nexp']-1) + slew\n",
    "    obs_start.append(start_time)\n",
    "tbdata['start'] = obs_start[:-1]"
   ]
  },
  {
   "cell_type": "code",
   "execution_count": 96,
   "metadata": {},
   "outputs": [],
   "source": [
    "tbdata.write('../plan.txt', format='ascii.fixed_width', overwrite=True)"
   ]
  },
  {
   "cell_type": "code",
   "execution_count": 97,
   "metadata": {},
   "outputs": [],
   "source": [
    "tbdata['start_time'] = Time(tbdata['start']).iso"
   ]
  },
  {
   "cell_type": "code",
   "execution_count": 98,
   "metadata": {},
   "outputs": [
    {
     "data": {
      "text/html": [
       "<i>Table length=8</i>\n",
       "<table id=\"table103615325912\" class=\"table-striped table-bordered table-condensed\">\n",
       "<thead><tr><th>name</th><th>ra</th><th>dec</th><th>mag</th><th>exposure</th><th>nexp</th><th>exptime</th><th>start</th><th>start_time</th></tr></thead>\n",
       "<thead><tr><th>bytes10</th><th>bytes11</th><th>bytes11</th><th>bytes10</th><th>bytes10</th><th>float64</th><th>float64</th><th>object</th><th>str23</th></tr></thead>\n",
       "<tr><td>BD284211</td><td>21:51:11.07</td><td>+28:51:51.8</td><td>10.7</td><td>1x10</td><td>1.0</td><td>10.0</td><td>2019-09-23 05:18:23.156</td><td>2019-09-23 05:18:23.156</td></tr>\n",
       "<tr><td>2019cvz</td><td>16:30:54.00</td><td>+46:35:18.2</td><td>19.5-20</td><td>2x900</td><td>2.0</td><td>900.0</td><td>2019-09-23 05:23:33.156</td><td>2019-09-23 05:23:33.156</td></tr>\n",
       "<tr><td>2019cbc</td><td>18:06:09.17</td><td>+65:20:46.9</td><td>22</td><td>3x1200</td><td>3.0</td><td>1200.0</td><td>2019-09-23 06:00:40.156</td><td>2019-09-23 06:00:40.156</td></tr>\n",
       "<tr><td>2019cmv</td><td>18:57:52.99</td><td>+45:35:24.0</td><td>20</td><td>2x900</td><td>2.0</td><td>900.0</td><td>2019-09-23 07:09:54.156</td><td>2019-09-23 07:09:54.156</td></tr>\n",
       "<tr><td>2019kbj</td><td>22:11:21.93</td><td>+19:37:03.5</td><td>21</td><td>2x1200</td><td>2.0</td><td>1200.0</td><td>2019-09-23 07:47:01.156</td><td>2019-09-23 07:47:01.156</td></tr>\n",
       "<tr><td>2018ilu</td><td>23:33:20.98</td><td>+04:48:34.7</td><td>22.2</td><td>2x1200</td><td>2.0</td><td>1200.0</td><td>2019-09-23 08:34:08.156</td><td>2019-09-23 08:34:08.156</td></tr>\n",
       "<tr><td>2017gmr</td><td>02:35:30.15</td><td>-09:21:15.0</td><td>21</td><td>2x1200</td><td>2.0</td><td>1200.0</td><td>2019-09-23 09:21:15.156</td><td>2019-09-23 09:21:15.156</td></tr>\n",
       "<tr><td>end</td><td>02:35:30.15</td><td>-09:21:15.0</td><td>21</td><td>1x1</td><td>1.0</td><td>1.0</td><td>2019-09-23 10:08:22.156</td><td>2019-09-23 10:08:22.156</td></tr>\n",
       "</table>"
      ],
      "text/plain": [
       "<Table length=8>\n",
       "  name        ra     ...          start                 start_time      \n",
       "bytes10    bytes11   ...          object                  str23         \n",
       "-------- ----------- ... ----------------------- -----------------------\n",
       "BD284211 21:51:11.07 ... 2019-09-23 05:18:23.156 2019-09-23 05:18:23.156\n",
       " 2019cvz 16:30:54.00 ... 2019-09-23 05:23:33.156 2019-09-23 05:23:33.156\n",
       " 2019cbc 18:06:09.17 ... 2019-09-23 06:00:40.156 2019-09-23 06:00:40.156\n",
       " 2019cmv 18:57:52.99 ... 2019-09-23 07:09:54.156 2019-09-23 07:09:54.156\n",
       " 2019kbj 22:11:21.93 ... 2019-09-23 07:47:01.156 2019-09-23 07:47:01.156\n",
       " 2018ilu 23:33:20.98 ... 2019-09-23 08:34:08.156 2019-09-23 08:34:08.156\n",
       " 2017gmr 02:35:30.15 ... 2019-09-23 09:21:15.156 2019-09-23 09:21:15.156\n",
       "     end 02:35:30.15 ... 2019-09-23 10:08:22.156 2019-09-23 10:08:22.156"
      ]
     },
     "execution_count": 98,
     "metadata": {},
     "output_type": "execute_result"
    }
   ],
   "source": [
    "tbdata"
   ]
  },
  {
   "cell_type": "code",
   "execution_count": 99,
   "metadata": {},
   "outputs": [
    {
     "name": "stderr",
     "output_type": "stream",
     "text": [
      "/Users/bostroem/anaconda/envs/astroconda3/lib/python3.5/site-packages/matplotlib/axes/_base.py:3455: MatplotlibDeprecationWarning: \n",
      "The `ymax` argument was deprecated in Matplotlib 3.0 and will be removed in 3.2. Use `top` instead.\n",
      "  alternative='`top`', obj_type='argument')\n"
     ]
    }
   ],
   "source": [
    "fig = plt.figure()\n",
    "fig.subplotpars.update(bottom=0.15)\n",
    "ax = fig.add_subplot(111)\n",
    "ax.axhline(1/np.cos(((90-36.8)*u.degree).to(u.radian)), color='k', ls='--', label='Keck II setting target lim')\n",
    "#ax.axhline(1/np.cos(((90-18)*u.degree).to(u.radian)), color='gray', ls='--', label='Keck II rising target lim')\n",
    "#time = today+np.linspace(0, 0.32, 100)\n",
    "last_time = handoff\n",
    "for indx, cycle in enumerate(custom_cycler):\n",
    "    try:\n",
    "        irow = tbdata[indx]\n",
    "    except IndexError:\n",
    "        break\n",
    "    itarget = astroplan.FixedTarget(coord=SkyCoord(ra=irow['ra'], dec=irow['dec'], unit=(u.hourangle, u.degree)), \n",
    "                                   name=irow['name'])\n",
    "    try:\n",
    "        time = irow['start'] + np.linspace(0,(tbdata[indx+1]['start']-irow['start']).value, 20)\n",
    "    except IndexError:\n",
    "        time = irow['start'] + np.linspace(0,(twi12deg-irow['start']).value, 20)\n",
    "    plots.plot_airmass(itarget, observer, time, altitude_yaxis=True, ax=ax, style_kwargs=cycle)\n",
    "ax.axvline(twi12deg.plot_date, linestyle=':', label='12deg', color='k')\n",
    "ax.axvline(twi18deg.plot_date, label='18deg', color='k')\n",
    "ax.axvline(handoff.plot_date, label='handoff', color='k')\n",
    "ax.axvline(pre_twi18deg.plot_date, color='k', ls=':')\n",
    "ax.axvline(twi15deg.plot_date, color='gray', ls=':')\n",
    "for start_time in tbdata['start']:\n",
    "    ax.axvline(start_time.plot_date, color='gray', lw=0.5, ls=':')\n",
    "ax.legend(ncol=3, loc='lower center')\n",
    "ax.set_xlim(pre_twi15deg.plot_date-0.05, handoff.plot_date+0.05)\n",
    "ax.set_ylim(ymax=0.95)\n",
    "plt.grid()\n",
    "plt.savefig('schedule.pdf')"
   ]
  },
  {
   "cell_type": "code",
   "execution_count": null,
   "metadata": {},
   "outputs": [],
   "source": []
  }
 ],
 "metadata": {
  "kernelspec": {
   "display_name": "Python (astroconda3)",
   "language": "python",
   "name": "astroconda3"
  },
  "language_info": {
   "codemirror_mode": {
    "name": "ipython",
    "version": 3
   },
   "file_extension": ".py",
   "mimetype": "text/x-python",
   "name": "python",
   "nbconvert_exporter": "python",
   "pygments_lexer": "ipython3",
   "version": "3.5.6"
  }
 },
 "nbformat": 4,
 "nbformat_minor": 2
}
