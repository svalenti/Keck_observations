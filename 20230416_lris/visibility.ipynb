{
 "cells": [
  {
   "cell_type": "code",
   "execution_count": 1,
   "metadata": {},
   "outputs": [],
   "source": [
    "import numpy as np\n",
    "import astroplan\n",
    "from astroplan.plots import plot_sky\n",
    "from astroplan import plots, Observer, FixedTarget\n",
    "from astropy.coordinates import SkyCoord\n",
    "from astropy.time import Time\n",
    "import astropy\n",
    "import astropy.units as u\n",
    "from matplotlib import pyplot as plt\n",
    "from astropy.table import Table\n",
    "from matplotlib import cycler\n",
    "from astropy.coordinates import SkyCoord, EarthLocation, AltAz, get_moon\n",
    "%matplotlib inline"
   ]
  },
  {
   "cell_type": "code",
   "execution_count": 2,
   "metadata": {},
   "outputs": [
    {
     "ename": "NameError",
     "evalue": "name 'astropalan' is not defined",
     "output_type": "error",
     "traceback": [
      "\u001b[0;31m---------------------------------------------------------------------------\u001b[0m",
      "\u001b[0;31mNameError\u001b[0m                                 Traceback (most recent call last)",
      "\u001b[0;32m<ipython-input-2-ae218bf2df00>\u001b[0m in \u001b[0;36m<module>\u001b[0;34m\u001b[0m\n\u001b[1;32m      1\u001b[0m \u001b[0;31m#astroplan.download_IERS_A()\u001b[0m\u001b[0;34m\u001b[0m\u001b[0;34m\u001b[0m\u001b[0;34m\u001b[0m\u001b[0m\n\u001b[1;32m      2\u001b[0m \u001b[0;31m#astropy.utils.iers.IERS_A_URL = 'http://toshi.nofs.navy.mil/ser7/finals2000A.all'\u001b[0m\u001b[0;34m\u001b[0m\u001b[0;34m\u001b[0m\u001b[0;34m\u001b[0m\u001b[0m\n\u001b[0;32m----> 3\u001b[0;31m \u001b[0mastropalan\u001b[0m\u001b[0;34m.\u001b[0m\u001b[0mdownload_IERS_A\u001b[0m\u001b[0;34m(\u001b[0m\u001b[0;34m)\u001b[0m\u001b[0;34m\u001b[0m\u001b[0;34m\u001b[0m\u001b[0m\n\u001b[0m",
      "\u001b[0;31mNameError\u001b[0m: name 'astropalan' is not defined"
     ]
    }
   ],
   "source": [
    "#astroplan.download_IERS_A()\n",
    "#astropy.utils.iers.IERS_A_URL = 'http://toshi.nofs.navy.mil/ser7/finals2000A.all'\n",
    "astropalan.download_IERS_A()"
   ]
  },
  {
   "cell_type": "code",
   "execution_count": 3,
   "metadata": {},
   "outputs": [],
   "source": [
    "observer = astroplan.Observer.at_site('keck')"
   ]
  },
  {
   "cell_type": "code",
   "execution_count": 4,
   "metadata": {},
   "outputs": [],
   "source": [
    "#10:19 - 15:01\n",
    "today = Time('2023-04-16 09:00:00', scale='utc')#10:24 - 15:20"
   ]
  },
  {
   "cell_type": "code",
   "execution_count": 5,
   "metadata": {},
   "outputs": [
    {
     "name": "stdout",
     "output_type": "stream",
     "text": [
      "12 deg env twilight 2023-04-16 05:28:49.715\n",
      "15 deg env twilight 2023-04-16 05:42:06.732\n",
      "18 deg eve twilight 2023-04-16 05:55:29.118\n",
      "18 deg morn twilight 2023-04-16 14:47:49.562\n",
      "15 deg morn twilight 2023-04-16 15:01:11.806\n",
      "12 deg morn twilight 2023-04-16 15:14:28.666\n"
     ]
    }
   ],
   "source": [
    "pre_twi12deg = observer.sun_set_time(today, horizon=-12*u.degree)\n",
    "print('12 deg env twilight', pre_twi12deg.iso)\n",
    "pre_twi15deg = observer.sun_set_time(today, horizon=-15*u.degree)\n",
    "print('15 deg env twilight', pre_twi15deg.iso)\n",
    "pre_twi18deg = observer.twilight_evening_astronomical(today)\n",
    "print('18 deg eve twilight', pre_twi18deg.iso)\n",
    "\n",
    "twi18deg = observer.twilight_morning_astronomical(today)\n",
    "print('18 deg morn twilight', twi18deg.iso)\n",
    "twi15deg = observer.sun_rise_time(today, horizon=-15*u.degree)\n",
    "print('15 deg morn twilight', twi15deg.iso)\n",
    "twi12deg = observer.twilight_morning_nautical(today)\n",
    "#twi12deg = Time('2019-12-22 16:00:30.559', scale='utc')\n",
    "print('12 deg morn twilight', twi12deg.iso)\n",
    "\n",
    "\n",
    "\n",
    "handoff = Time('2023-02-12 10:36:00', scale='utc')"
   ]
  },
  {
   "cell_type": "code",
   "execution_count": null,
   "metadata": {},
   "outputs": [],
   "source": []
  }
 ],
 "metadata": {
  "kernelspec": {
   "display_name": "Python 3.7.1 ('base')",
   "language": "python",
   "name": "python3"
  },
  "language_info": {
   "codemirror_mode": {
    "name": "ipython",
    "version": 3
   },
   "file_extension": ".py",
   "mimetype": "text/x-python",
   "name": "python",
   "nbconvert_exporter": "python",
   "pygments_lexer": "ipython3",
   "version": "3.7.1"
  },
  "orig_nbformat": 4,
  "vscode": {
   "interpreter": {
    "hash": "701303b3b48a211f202b899b2811e621ee2801fda49430b30be10b0872b92f07"
   }
  }
 },
 "nbformat": 4,
 "nbformat_minor": 2
}
